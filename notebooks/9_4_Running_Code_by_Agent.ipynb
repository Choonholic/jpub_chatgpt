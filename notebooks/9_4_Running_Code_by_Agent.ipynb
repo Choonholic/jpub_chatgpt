{
  "cells": [
    {
      "cell_type": "code",
      "execution_count": null,
      "metadata": {
        "id": "x0p3Ak4sNP6W"
      },
      "outputs": [],
      "source": [
        "!pip install langchain\n",
        "!pip install openai"
      ]
    },
    {
      "cell_type": "code",
      "execution_count": null,
      "metadata": {
        "id": "UNn4JiqBNtn8"
      },
      "outputs": [],
      "source": [
        "import os\n",
        "os.environ['OPENAI_API_KEY'] = \"발급받은 API 키\""
      ]
    },
    {
      "cell_type": "markdown",
      "metadata": {
        "id": "hdGxQzXKNvin"
      },
      "source": [
        "## PowerPoint 자동 작성"
      ]
    },
    {
      "cell_type": "code",
      "execution_count": null,
      "metadata": {
        "id": "PqpNDmISN05F"
      },
      "outputs": [],
      "source": [
        "!pip install langchain-experimental"
      ]
    },
    {
      "cell_type": "code",
      "execution_count": null,
      "metadata": {
        "id": "DiGXG-SuN5t8"
      },
      "outputs": [],
      "source": [
        "from langchain.agents.agent_types import AgentType\n",
        "from langchain.chat_models import ChatOpenAI\n",
        "from langchain_experimental.agents.agent_toolkits import create_python_agent\n",
        "from langchain_experimental.tools import PythonREPLTool\n",
        "\n",
        "agent = create_python_agent(\n",
        "    llm=ChatOpenAI(temperature=0, model=\"gpt-3.5-turbo\"),\n",
        "    tool=PythonREPLTool(),\n",
        "    verbose=True,\n",
        "    agent_type=AgentType.OPENAI_FUNCTIONS,\n",
        "    agent_executor_kwargs={\"handle_parsing_errors\": True},\n",
        ")"
      ]
    },
    {
      "cell_type": "code",
      "execution_count": null,
      "metadata": {
        "id": "ISTjblPvN8Zo"
      },
      "outputs": [],
      "source": [
        "agent.run(\"사내에서 ChatGPT를 활용하기 위한 기획서 초안을 한국어로 작성해주세요. 그리고 생성한 기획서를 Python을 이용하여 PowerPoint 형식의 plan.pptx로 저장해주세요. 이 때 각각의 항목마다 슬라이드를 작성해주세요.\")"
      ]
    },
    {
      "cell_type": "markdown",
      "metadata": {
        "id": "5PGRHwgFOBVq"
      },
      "source": [
        "## diagrams를 사용한 클라우드 구성도 자동 작성"
      ]
    },
    {
      "cell_type": "code",
      "execution_count": null,
      "metadata": {
        "id": "2tq6y1YcOCZo"
      },
      "outputs": [],
      "source": [
        "!pip install diagrams"
      ]
    },
    {
      "cell_type": "code",
      "execution_count": null,
      "metadata": {
        "id": "zlmi3ZsKOFWx"
      },
      "outputs": [],
      "source": [
        "agent.run(\"diagrams를 이용한 클라우드 웹서비스 구성도 예제를 만들어주세요. Python으로 코드를 작성하고, 해당 코드를 실행한 결과를 diagrams라는 파일로 저장해주세요. diagrams 라이브러리는 설치되어 있습니다.\")"
      ]
    },
    {
      "cell_type": "markdown",
      "metadata": {
        "id": "wOVZSTB-OIXV"
      },
      "source": [
        "## 그래프 자동 작성"
      ]
    },
    {
      "cell_type": "code",
      "execution_count": null,
      "metadata": {
        "id": "ZbVejW1LOMqO"
      },
      "outputs": [],
      "source": [
        "agent.run(\"그래프 예제를 종류별로 3개 정도 그려서 각각 png 파일로 저장해주세요. matplotlib 라이브러리는 설치되어 있습니다.\")"
      ]
    },
    {
      "cell_type": "code",
      "execution_count": null,
      "metadata": {
        "id": "99kfiBHQOOXU"
      },
      "outputs": [],
      "source": [
        "agent.run(\"3차원으로 엄청 복잡하고 어려운 그래프를 그려서 png 파일로 저장해주세요. matplotlib 라이브러리는 설치되어 있습니다.\")"
      ]
    }
  ],
  "metadata": {
    "colab": {
      "provenance": []
    },
    "kernelspec": {
      "display_name": "Python 3",
      "name": "python3"
    },
    "language_info": {
      "name": "python"
    }
  },
  "nbformat": 4,
  "nbformat_minor": 0
}
