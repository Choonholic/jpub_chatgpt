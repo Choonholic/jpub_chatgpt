{
  "cells": [
    {
      "cell_type": "code",
      "execution_count": null,
      "metadata": {
        "id": "4YIDLNzyO-Hf"
      },
      "outputs": [],
      "source": [
        "!pip install langchain\n",
        "!pip install openai"
      ]
    },
    {
      "cell_type": "code",
      "execution_count": null,
      "metadata": {
        "id": "4PPAcNUMPEub"
      },
      "outputs": [],
      "source": [
        "import os\n",
        "os.environ['OPENAI_API_KEY'] = \"발급받은 API 키\""
      ]
    },
    {
      "cell_type": "markdown",
      "metadata": {
        "id": "_6yFRoCqPLT1"
      },
      "source": [
        "## 자동으로 퍼즐을 푸는 간단한 예"
      ]
    },
    {
      "cell_type": "code",
      "execution_count": null,
      "metadata": {
        "id": "yYUMRps3PMZr"
      },
      "outputs": [],
      "source": [
        "!pip install Wikipedia"
      ]
    },
    {
      "cell_type": "code",
      "execution_count": null,
      "metadata": {
        "id": "3Ee5jV2dPO_a"
      },
      "outputs": [],
      "source": [
        "from langchain.tools import WikipediaQueryRun\n",
        "from langchain.agents import initialize_agent\n",
        "from langchain.utilities import WikipediaAPIWrapper\n",
        "from langchain_experimental.tools import PythonREPLTool\n",
        "from langchain.chat_models import ChatOpenAI\n",
        "\n",
        "python_repl = PythonREPLTool()\n",
        "wikipedia = WikipediaQueryRun(api_wrapper=WikipediaAPIWrapper())\n",
        "\n",
        "llm = ChatOpenAI(temperature=0.5)\n",
        "tools = [python_repl, wikipedia]\n",
        "\n",
        "agent = initialize_agent(tools, llm, agent=\"zero-shot-react-description\", verbose=True, handle_parsing_errors=True)"
      ]
    },
    {
      "cell_type": "code",
      "execution_count": null,
      "metadata": {
        "id": "xFiaU_1WPUoZ"
      },
      "outputs": [],
      "source": [
        "agent.run(\n",
        "    \"\"\"\n",
        "    먼저 스도쿠의 규칙을 확인하고, 그 규칙에 따라 다음 스도쿠 퍼즐을 풀어주세요.\n",
        "    출력은 그대로 배열로 해주셔도 됩니다.:\n",
        "    [\n",
        "        [4, 0, 9, 1, 8, 0, 0, 0, 0],\n",
        "        [1, 7, 0, 5, 0, 0, 0, 3, 0],\n",
        "        [0, 3, 0, 0, 0, 0, 0, 0, 8],\n",
        "        [0, 0, 0, 4, 0, 2, 0, 0, 0],\n",
        "        [0, 9, 0, 0, 0, 0, 2, 4, 0],\n",
        "        [2, 0, 3, 0, 0, 0, 0, 0, 5],\n",
        "        [0, 1, 0, 0, 0, 0, 0, 0, 3],\n",
        "        [3, 0, 7, 0, 0, 1, 8, 0, 9],\n",
        "        [0, 0, 0, 0, 9, 7, 1, 6, 0],\n",
        "    ]\n",
        "    \"\"\"\n",
        ")"
      ]
    },
    {
      "cell_type": "markdown",
      "metadata": {
        "id": "a9gmdxqGPcRp"
      },
      "source": [
        "## 웹 검색에 대응하기"
      ]
    },
    {
      "cell_type": "code",
      "execution_count": null,
      "metadata": {
        "id": "WknU-p9sPe1D"
      },
      "outputs": [],
      "source": [
        "import os\n",
        "\n",
        "os.environ[\"GOOGLE_CSE_ID\"] = \"Google PSE ID\"\n",
        "os.environ[\"GOOGLE_API_KEY\"] = \"Google API Key\""
      ]
    },
    {
      "cell_type": "code",
      "execution_count": null,
      "metadata": {
        "id": "NQMhbhLWPjCT"
      },
      "outputs": [],
      "source": [
        "!pip install google-search"
      ]
    },
    {
      "cell_type": "code",
      "execution_count": null,
      "metadata": {
        "id": "rwqdDN-PPlr1"
      },
      "outputs": [],
      "source": [
        "from langchain.tools import Tool\n",
        "from langchain.utilities import GoogleSearchAPIWrapper\n",
        "\n",
        "search = GoogleSearchAPIWrapper()\n",
        "tool = Tool(\n",
        "    name = \"Google Search\",\n",
        "    description=\"Search Google for recent results.\",\n",
        "    func=search.run\n",
        ")"
      ]
    },
    {
      "cell_type": "code",
      "execution_count": null,
      "metadata": {
        "id": "dtqjKh_4PoVm"
      },
      "outputs": [],
      "source": [
        "result = tool.run(\"올해 G7 개최국\")\n",
        "print(result)"
      ]
    },
    {
      "cell_type": "code",
      "execution_count": null,
      "metadata": {
        "id": "dWWQ44FgPrM6"
      },
      "outputs": [],
      "source": [
        "from langchain.agents import initialize_agent\n",
        "from langchain_experimental.tools import PythonREPLTool\n",
        "from langchain.chat_models import ChatOpenAI\n",
        "from langchain.tools import Tool\n",
        "from langchain.utilities import GoogleSearchAPIWrapper\n",
        "\n",
        "llm = ChatOpenAI(temperature=0.2)\n",
        "python_repl = PythonREPLTool()\n",
        "\n",
        "tools = [python_repl]\n",
        "\n",
        "search = GoogleSearchAPIWrapper()\n",
        "\n",
        "tools.append(\n",
        "    Tool(\n",
        "        name = \"Google Search\",\n",
        "        description=\"Search Google for recent results.\",\n",
        "        func=search.run\n",
        "    )\n",
        ")\n",
        "\n",
        "agent = initialize_agent(tools, llm, agent=\"zero-shot-react-description\", verbose=True)"
      ]
    },
    {
      "cell_type": "code",
      "execution_count": null,
      "metadata": {
        "id": "-JrCJub5PtPc"
      },
      "outputs": [],
      "source": [
        "agent.run(\"내일 서울의 날씨 예보는?\")"
      ]
    },
    {
      "cell_type": "markdown",
      "metadata": {
        "id": "J53oCBLfPv4K"
      },
      "source": [
        "## 색인 데이터베이스 검색 통합하기"
      ]
    },
    {
      "cell_type": "code",
      "execution_count": null,
      "metadata": {
        "id": "tanC6jTPPxE0"
      },
      "outputs": [],
      "source": [
        "!pip install llama-index"
      ]
    },
    {
      "cell_type": "code",
      "execution_count": null,
      "metadata": {
        "id": "EOSBNC2wPyv0"
      },
      "outputs": [],
      "source": [
        "from langchain.chat_models import ChatOpenAI\n",
        "from llama_index.core import VectorStoreIndex, download_loader\n",
        "from langchain.agents import initialize_agent, Tool\n",
        "\n",
        "BeautifulSoupWebReader = download_loader(\"BeautifulSoupWebReader\")\n",
        "\n",
        "documents = BeautifulSoupWebReader().load_data(urls=\n",
        "    [\n",
        "        'https://www.gutenberg.org/cache/epub/59/pg59-images.html'\n",
        "    ]\n",
        ")\n",
        "index = VectorStoreIndex.from_documents(documents=documents)\n",
        "tools = [\n",
        "    Tool(\n",
        "        name=\"LlamaIndex\",\n",
        "        func=lambda q: str(index.as_query_engine().query(q)),\n",
        "        description=\"데카르트의 방법서론에 대한 질문에 답할 때 편리합니다.\"\n",
        "    ),\n",
        "]\n",
        "\n",
        "llm = ChatOpenAI(temperature=0)\n",
        "\n",
        "agent = initialize_agent(tools=tools, llm=llm, agent=\"zero-shot-react-description\", verbose=True)"
      ]
    },
    {
      "cell_type": "code",
      "execution_count": null,
      "metadata": {
        "id": "jH6lVms6P4eg"
      },
      "outputs": [],
      "source": [
        "agent.run(\"데카르트의 방법서설에서 과학적 방법에 대해 어떻게 설명하고 있나요?\")"
      ]
    },
    {
      "cell_type": "markdown",
      "metadata": {
        "id": "Q0BlTz0dP7G_"
      },
      "source": [
        "## PDF 문서 검색하기"
      ]
    },
    {
      "cell_type": "code",
      "execution_count": null,
      "metadata": {
        "id": "3Wn_reiGP8DC"
      },
      "outputs": [],
      "source": [
        "from pathlib import Path\n",
        "from llama_index.core import download_loader\n",
        "\n",
        "CJKPDFReader = download_loader(\"CJKPDFReader\")\n",
        "\n",
        "loader = CJKPDFReader()\n",
        "documents = loader.load_data(file=Path('./civilcode.pdf'))"
      ]
    },
    {
      "cell_type": "code",
      "execution_count": null,
      "metadata": {
        "id": "e2e_waKoQAHK"
      },
      "outputs": [],
      "source": [
        "from llama_index.core import VectorStoreIndex\n",
        "\n",
        "# 색인 생성\n",
        "index = VectorStoreIndex.from_documents(documents)"
      ]
    },
    {
      "cell_type": "code",
      "execution_count": null,
      "metadata": {
        "id": "NaMuTI5UQB_c"
      },
      "outputs": [],
      "source": [
        "# 색인 저장\n",
        "index.storage_context.persist('index_civilcode')"
      ]
    },
    {
      "cell_type": "code",
      "execution_count": null,
      "metadata": {
        "id": "XzlvFgFmQEVe"
      },
      "outputs": [],
      "source": [
        "from llama_index.core import StorageContext, load_index_from_storage\n",
        "\n",
        "# 색인 적재\n",
        "storage_context = StorageContext.from_defaults(persist_dir=\"./index_civilcode\")\n",
        "index = load_index_from_storage(storage_context)\n",
        "query_engine = index.as_query_engine()"
      ]
    },
    {
      "cell_type": "code",
      "execution_count": null,
      "metadata": {
        "id": "Muc11OzVQGff"
      },
      "outputs": [],
      "source": [
        "print(query_engine.query(\"유언에 관한 법률은 몇 조에 있고 내용은 무엇인지 한국어로 답해주세요.)\"))"
      ]
    },
    {
      "cell_type": "markdown",
      "metadata": {
        "id": "eq8MmRJNQJ0d"
      },
      "source": [
        "## 여러 개의 색인 데이터베이스를 각각 별도의 도구로 생성하기"
      ]
    },
    {
      "cell_type": "code",
      "execution_count": null,
      "metadata": {
        "id": "rGFPy7irQLAj"
      },
      "outputs": [],
      "source": [
        "documents = loader.load_data(file=Path('./criminalcode.pdf'))\n",
        "index_criminalcode = VectorStoreIndex.from_documents(documents)\n",
        "index_criminalcode.storage_context.persist('index_criminalcode')"
      ]
    },
    {
      "cell_type": "code",
      "execution_count": null,
      "metadata": {
        "id": "vQ3y-ZOBQQTK"
      },
      "outputs": [],
      "source": [
        "from langchain.chat_models import ChatOpenAI\n",
        "from langchain.agents import initialize_agent, Tool\n",
        "from llama_index.core import StorageContext, load_index_from_storage\n",
        "\n",
        "storage_context = StorageContext.from_defaults(persist_dir=\"./index_civilcode\")\n",
        "index_civilcode = load_index_from_storage(storage_context)\n",
        "\n",
        "storage_context = StorageContext.from_defaults(persist_dir=\"./index_criminalcode\")\n",
        "index_criminalcode = load_index_from_storage(storage_context)\n",
        "\n",
        "llm = ChatOpenAI(temperature=0)\n",
        "\n",
        "tools = [\n",
        "    Tool(\n",
        "        name=\"civilcode\",\n",
        "        func=lambda q: str(index_civilcode.as_query_engine().query(q)),\n",
        "        description=\"민법에 관련된 질문에 답할 때 편리합니다.\",\n",
        "        return_direct=True,\n",
        "    ),\n",
        "    Tool(\n",
        "        name=\"criminalcode\",\n",
        "        func=lambda q: str(index_criminalcode.as_query_engine().query(q)),\n",
        "        description=\"형법에 관련된 질문에 답할 때 편리합니다.\",\n",
        "        return_direct=True,\n",
        "    ),\n",
        "]\n",
        "\n",
        "agent = initialize_agent(tools=tools, llm=llm, agent=\"zero-shot-react-description\", verbose=True)"
      ]
    },
    {
      "cell_type": "code",
      "execution_count": null,
      "metadata": {
        "id": "jALefbIVQUF0"
      },
      "outputs": [],
      "source": [
        "agent.run(\"상속의 승인과 포기에 대해 한국어로 알려주세요.\")"
      ]
    },
    {
      "cell_type": "code",
      "execution_count": null,
      "metadata": {
        "id": "yR1PJvu_QWbs"
      },
      "outputs": [],
      "source": [
        "agent.run(\"외교상의 기밀 누설에 관한 법률과 처벌 내용을 한국어로 알려주세요.\")"
      ]
    },
    {
      "cell_type": "code",
      "execution_count": null,
      "metadata": {
        "id": "VyHUyn9CQZGa"
      },
      "outputs": [],
      "source": [
        "agent = initialize_agent(tools=tools, llm=llm, agent=\"zero-shot-react-description\", verbose=True, handle_parsing_errors=True)\n",
        "agent.run(\"안녕하세요\")"
      ]
    },
    {
      "cell_type": "code",
      "execution_count": null,
      "metadata": {
        "id": "SuScw_0PQeoM"
      },
      "outputs": [],
      "source": [
        "from langchain.chat_models import ChatOpenAI\n",
        "from langchain.agents import initialize_agent, Tool\n",
        "from llama_index.core import StorageContext, load_index_from_storage\n",
        "from langchain.prompts import PromptTemplate\n",
        "from langchain.chains import LLMChain\n",
        "\n",
        "storage_context = StorageContext.from_defaults(persist_dir=\"./index_civilcode\")\n",
        "index_civilcode = load_index_from_storage(storage_context)\n",
        "\n",
        "storage_context = StorageContext.from_defaults(persist_dir=\"./index_criminalcode\")\n",
        "index_criminalcode = load_index_from_storage(storage_context)\n",
        "\n",
        "# 범용적으로 일반적인 대화를 하기 위해 단일 체인을 생성해 도구로 등록\n",
        "prompt = PromptTemplate(input_variables=[\"query\"], template=\"{query}\")\n",
        "chain_general = LLMChain(llm=ChatOpenAI(), prompt=prompt)\n",
        "\n",
        "llm = ChatOpenAI(temperature=0)\n",
        "\n",
        "tools = [\n",
        "    Tool(\n",
        "        name=\"civilcode\",\n",
        "        func=lambda q: str(index_civilcode.as_query_engine().query(q)),\n",
        "        description=\"민법에 관련된 질문에 답할 때 편리합니다.\",\n",
        "        return_direct=True,\n",
        "    ),\n",
        "    Tool(\n",
        "        name=\"criminalcode\",\n",
        "        func=lambda q: str(index_criminalcode.as_query_engine().query(q)),\n",
        "        description=\"형법에 관련된 질문에 답할 때 편리합니다.\",\n",
        "        return_direct=True,\n",
        "    ),\n",
        "    Tool(\n",
        "        name=\"general\",\n",
        "        func=chain_general.run,\n",
        "        description=\"범용적인 질문에 답할 때 편리합니다.\",\n",
        "        return_direct=True,\n",
        "    ),\n",
        "]\n",
        "\n",
        "agent = initialize_agent(tools=tools, llm=llm, agent=\"zero-shot-react-description\", verbose=True, handle_parsing_errors=True)"
      ]
    },
    {
      "cell_type": "code",
      "execution_count": null,
      "metadata": {
        "id": "BvMDiYv9Qi2F"
      },
      "outputs": [],
      "source": [
        "agent.run(\"안녕하세요\")"
      ]
    },
    {
      "cell_type": "markdown",
      "metadata": {
        "id": "wEbu5s2GQlS4"
      },
      "source": [
        "## SQL 데이터베이스 검색 통합하기"
      ]
    },
    {
      "cell_type": "code",
      "execution_count": null,
      "metadata": {
        "id": "tnCT74fSQmbk"
      },
      "outputs": [],
      "source": [
        "from langchain import PromptTemplate\n",
        "from langchain.chat_models import ChatOpenAI\n",
        "from langchain.agents import initialize_agent, Tool\n",
        "from langchain import SQLDatabase\n",
        "from langchain_experimental.sql import SQLDatabaseChain\n",
        "\n",
        "sql_uri = \"sqlite:///user_support.db\"\n",
        "db = SQLDatabase.from_uri(sql_uri)\n",
        "llm = ChatOpenAI(temperature=0)\n",
        "\n",
        "template=\"\"\"\n",
        "    {query}\n",
        "    \"\"\"\n",
        "\n",
        "prompt = PromptTemplate(input_variables=[\"query\"], template=template)\n",
        "db_chain = SQLDatabaseChain.from_llm(llm, db, verbose=True)\n",
        "\n",
        "tools = [\n",
        "    Tool(\n",
        "        name=\"SQL Database\",\n",
        "        func=db_chain.run,\n",
        "        description=\"데이터베이스 질의에 답할 때 편리합니다.\",\n",
        "        return_direct=True\n",
        "    ),\n",
        "]\n",
        "\n",
        "agent = initialize_agent(tools=tools, llm=llm, agent=\"zero-shot-react-description\", verbose=True, handle_parsing_errors=True)"
      ]
    },
    {
      "cell_type": "code",
      "execution_count": null,
      "metadata": {
        "id": "Butmym1ZQrn6"
      },
      "outputs": [],
      "source": [
        "agent.run(\"윤 태진님의 사용자 ID를 알려주세요. 한국어는 성, 이름 순서로 이름을 씁니다.\")"
      ]
    },
    {
      "cell_type": "code",
      "execution_count": null,
      "metadata": {
        "id": "UJUXcenkQtns"
      },
      "outputs": [],
      "source": [
        "agent.run(\"사용자 ID=1의 구매 이력을 알려주세요.\")"
      ]
    }
  ],
  "metadata": {
    "colab": {
      "provenance": []
    },
    "kernelspec": {
      "display_name": "Python 3",
      "name": "python3"
    },
    "language_info": {
      "name": "python"
    }
  },
  "nbformat": 4,
  "nbformat_minor": 0
}
