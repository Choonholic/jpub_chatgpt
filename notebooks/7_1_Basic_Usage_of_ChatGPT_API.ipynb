{
  "cells": [
    {
      "cell_type": "markdown",
      "metadata": {
        "id": "N3S5ZiHCibqv"
      },
      "source": [
        "## 가장 간단한 코드"
      ]
    },
    {
      "cell_type": "code",
      "execution_count": null,
      "metadata": {
        "id": "GBLVMaJ3iOiQ"
      },
      "outputs": [],
      "source": [
        "!pip install openai"
      ]
    },
    {
      "cell_type": "code",
      "execution_count": null,
      "metadata": {
        "id": "rPMMUNJrigIT"
      },
      "outputs": [],
      "source": [
        "import os\n",
        "os.environ['OPENAI_API_KEY'] = \"발급받은 API 키\""
      ]
    },
    {
      "cell_type": "code",
      "execution_count": null,
      "metadata": {
        "id": "PoujW03uii3p"
      },
      "outputs": [],
      "source": [
        "from openai import OpenAI\n",
        "\n",
        "client = OpenAI()\n",
        "\n",
        "user_text = \"Python으로 피보나치 수열을 구하는 예제 코드와 테스트 코드를 작성해주세요.\"\n",
        "\n",
        "response = client.chat.completions.create(\n",
        "    model=\"gpt-3.5-turbo\",\n",
        "    messages=[\n",
        "        {\n",
        "            \"role\": \"system\",\n",
        "            \"content\": \"사용자의 요구에 따라 적절한 답변을 제공해주세요.\"\n",
        "        },\n",
        "        {\n",
        "            \"role\": \"user\",\n",
        "            \"content\": user_text\n",
        "        }\n",
        "    ],\n",
        ")\n",
        "\n",
        "response_message = response.choices[0].message.content\n",
        "\n",
        "print(response_message)"
      ]
    },
    {
      "cell_type": "markdown",
      "metadata": {
        "id": "VC6CRihEirlF"
      },
      "source": [
        "## 결과를 스트림으로 표시하기"
      ]
    },
    {
      "cell_type": "code",
      "execution_count": null,
      "metadata": {
        "id": "yX7dejHUis3X"
      },
      "outputs": [],
      "source": [
        "from openai import OpenAI\n",
        "\n",
        "client = OpenAI()\n",
        "\n",
        "user_text = \"Python을 이용해 재귀적으로 피보나치 수열을 구하는 예제 코드와 테스트 코드를 작성해주세요.\"\n",
        "\n",
        "response = client.chat.completions.create(\n",
        "    model=\"gpt-3.5-turbo\",\n",
        "    stream=True,\n",
        "    messages=[\n",
        "        {\n",
        "            \"role\": \"system\",\n",
        "            \"content\": \"사용자의 요구에 따라 적절한 답변을 제공해주세요.\"\n",
        "        },\n",
        "        {\n",
        "            \"role\": \"user\",\n",
        "            \"content\": user_text\n",
        "        }\n",
        "    ],\n",
        ")\n",
        "\n",
        "for chunk in response:\n",
        "    if chunk and chunk.choices[0].delta and chunk.choices[0].delta.content:\n",
        "        partial_word = chunk.choices[0].delta.content\n",
        "        print(partial_word, end=\"\")"
      ]
    },
    {
      "cell_type": "markdown",
      "metadata": {
        "id": "P680PJUSi6MO"
      },
      "source": [
        "## 챗봇화하기"
      ]
    },
    {
      "cell_type": "code",
      "execution_count": null,
      "metadata": {
        "id": "wzBz8HDFi7_G"
      },
      "outputs": [],
      "source": [
        "from openai import OpenAI\n",
        "\n",
        "client = OpenAI()\n",
        "\n",
        "while True:\n",
        "    user_text = input(\"\\n\\n>\")\n",
        "    if user_text == \"quit\":\n",
        "        break\n",
        "\n",
        "    response = client.chat.completions.create(\n",
        "        model=\"gpt-3.5-turbo\",\n",
        "        stream=True,\n",
        "        messages=[\n",
        "            {\n",
        "                \"role\": \"system\",\n",
        "                \"content\": \"사용자의 요구에 따라 적절한 답변을 제공해주세요.\"\n",
        "            },\n",
        "            {\n",
        "                \"role\": \"user\",\n",
        "                \"content\": user_text\n",
        "            }\n",
        "        ],\n",
        "    )\n",
        "\n",
        "    for chunk in response:\n",
        "        if chunk and chunk.choices[0].delta and chunk.choices[0].delta.content:\n",
        "            partial_word = chunk.choices[0].delta.content\n",
        "            print(partial_word, end=\"\")"
      ]
    }
  ],
  "metadata": {
    "colab": {
      "provenance": []
    },
    "kernelspec": {
      "display_name": "Python 3",
      "name": "python3"
    },
    "language_info": {
      "name": "python"
    }
  },
  "nbformat": 4,
  "nbformat_minor": 0
}
