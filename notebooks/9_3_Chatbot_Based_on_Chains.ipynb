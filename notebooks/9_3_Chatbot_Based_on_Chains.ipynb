{
  "cells": [
    {
      "cell_type": "code",
      "execution_count": null,
      "metadata": {
        "id": "CWidsLvcK9MA"
      },
      "outputs": [],
      "source": [
        "!pip install langchain\n",
        "!pip install openai"
      ]
    },
    {
      "cell_type": "code",
      "execution_count": null,
      "metadata": {
        "id": "sfJr3EHwLBuz"
      },
      "outputs": [],
      "source": [
        "import os\n",
        "os.environ['OPENAI_API_KEY'] = \"발급받은 API 키\""
      ]
    },
    {
      "cell_type": "markdown",
      "metadata": {
        "id": "73nvtrnNKtVc"
      },
      "source": [
        "## LangChain을 이용한 기본적인 챗봇"
      ]
    },
    {
      "cell_type": "code",
      "execution_count": null,
      "metadata": {
        "id": "pKAYNaPPKgAZ"
      },
      "outputs": [],
      "source": [
        "from langchain.prompts import (\n",
        "    ChatPromptTemplate,\n",
        "    MessagesPlaceholder,\n",
        "    SystemMessagePromptTemplate,\n",
        "    HumanMessagePromptTemplate\n",
        ")\n",
        "from langchain.chains import ConversationChain\n",
        "from langchain.chat_models import ChatOpenAI\n",
        "from langchain.memory import ConversationBufferMemory\n",
        "\n",
        "prompt = ChatPromptTemplate.from_messages([\n",
        "    SystemMessagePromptTemplate.from_template(\"\"\"\n",
        "        다음은 인간과 AI의 친근한 대화입니다.\n",
        "        AI는 말이 많고, 맥락에 따라 구체적인 내용을 많이 알려줍니다.\n",
        "        AI는 질문에 대한 답을 모르면 정직하게 \"모른다\"고 대답합니다.\n",
        "    \"\"\"),\n",
        "    MessagesPlaceholder(variable_name=\"history\"),\n",
        "    HumanMessagePromptTemplate.from_template(\"{input}\")\n",
        "])\n",
        "llm = ChatOpenAI(temperature=0)\n",
        "memory = ConversationBufferMemory(return_messages=True)\n",
        "conversation = ConversationChain(memory=memory, prompt=prompt, llm=llm)\n",
        "\n",
        "while True:\n",
        "    command = input(\">\")\n",
        "    if command == \"q\":\n",
        "        break\n",
        "    response = conversation.predict(input=command)\n",
        "    print(f\"AI:{response}\")"
      ]
    },
    {
      "cell_type": "code",
      "execution_count": null,
      "metadata": {
        "id": "HGMJeReSKzoV"
      },
      "outputs": [],
      "source": [
        "print(memory)"
      ]
    },
    {
      "cell_type": "markdown",
      "metadata": {
        "id": "AuhncSupL73s"
      },
      "source": [
        "## 데이터베이스 생성 (7.3절 참조)"
      ]
    },
    {
      "cell_type": "code",
      "execution_count": null,
      "metadata": {
        "id": "TdEN7K68kAIr"
      },
      "outputs": [],
      "source": [
        "import sqlite3\n",
        "\n",
        "# 데이터베이스 접속 생성\n",
        "conn = sqlite3.connect('user_support.db')\n",
        "\n",
        "# 커서 객체 생성\n",
        "cursor = conn.cursor()\n",
        "\n",
        "# users 테이블 생성\n",
        "cursor.execute('''\n",
        "CREATE TABLE users (\n",
        "    user_id INTEGER PRIMARY KEY,\n",
        "    first_name TEXT,\n",
        "    last_name TEXT,\n",
        "    email TEXT,\n",
        "    phone TEXT\n",
        ")\n",
        "''')\n",
        "\n",
        "# products 테이블 생성\n",
        "cursor.execute('''\n",
        "CREATE TABLE products (\n",
        "    product_id INTEGER PRIMARY KEY,\n",
        "    product_name TEXT,\n",
        "    price INTEGER\n",
        ")\n",
        "''')\n",
        "\n",
        "# order_history 테이블 생성\n",
        "cursor.execute('''\n",
        "CREATE TABLE order_history (\n",
        "    history_id INTEGER PRIMARY KEY,\n",
        "    user_id INTEGER,\n",
        "    product_id INTEGER,\n",
        "    purchase_date DATE,\n",
        "    quantity INTEGER,\n",
        "    remarks TEXT,\n",
        "    created_at DATETIME,\n",
        "    FOREIGN KEY (user_id) REFERENCES users(user_id),\n",
        "    FOREIGN KEY (product_id) REFERENCES products(product_id)\n",
        ")\n",
        "''')\n",
        "\n",
        "# support_history 테이블 생성\n",
        "cursor.execute('''\n",
        "CREATE TABLE support_history (\n",
        "    history_id INTEGER PRIMARY KEY,\n",
        "    user_id INTEGER,\n",
        "    subject TEXT,\n",
        "    message_content TEXT,\n",
        "    message_type TEXT,\n",
        "    status TEXT,\n",
        "    created_at DATETIME,\n",
        "    FOREIGN KEY (user_id) REFERENCES users(user_id)\n",
        ")\n",
        "''')\n",
        "\n",
        "# 변경 사항 커밋\n",
        "conn.commit()\n",
        "\n",
        "# 데이터베이스 접속 종료\n",
        "conn.close()"
      ]
    },
    {
      "cell_type": "code",
      "execution_count": null,
      "metadata": {
        "id": "9LU0aoRCktU_"
      },
      "outputs": [],
      "source": [
        "import sqlite3\n",
        "from datetime import datetime\n",
        "\n",
        "# 데이터베이스 접속 생성\n",
        "conn = sqlite3.connect('user_support.db')\n",
        "\n",
        "# 커서 객체 생성\n",
        "cursor = conn.cursor()\n",
        "\n",
        "# users 테이블에 한국어 테스트 데이터 삽입\n",
        "users_data = [\n",
        "    (1, '태진', '윤', 'taejin@example.com', '099-1234-5678'),\n",
        "    (2, '은미', '김', 'eunmi@example.com', '098-9876-5432')\n",
        "]\n",
        "\n",
        "for user in users_data:\n",
        "    cursor.execute('''\n",
        "    INSERT INTO users (user_id, first_name, last_name, email, phone)\n",
        "    VALUES (?, ?, ?, ?, ?)\n",
        "    ''', user)\n",
        "\n",
        "# products 테이블에 한국어 테스트 데이터 삽입\n",
        "products_data = [\n",
        "    (1, '제품A', 10000),\n",
        "    (2, '제품B', 20000),\n",
        "    (3, '제품C', 30000)\n",
        "]\n",
        "\n",
        "for product in products_data:\n",
        "    cursor.execute('''\n",
        "    INSERT INTO products (product_id, product_name, price)\n",
        "    VALUES (?, ?, ?)\n",
        "    ''', product)\n",
        "\n",
        "# order_history 테이블에 한국어 테스트 데이터 삽입\n",
        "order_history_data = [\n",
        "    (1, 1, 1, '2023-10-01', 2, '빠른 발송', datetime.now()),\n",
        "    (2, 2, 3, '2023-10-05', 1, '선물 포장', datetime.now())\n",
        "]\n",
        "\n",
        "for order in order_history_data:\n",
        "    cursor.execute('''\n",
        "    INSERT INTO order_history (history_id, user_id, product_id, purchase_date, quantity, remarks, created_at)\n",
        "    VALUES (?, ?, ?, ?, ?, ?, ?)\n",
        "    ''', order)\n",
        "\n",
        "# support_history 테이블에 한국어 테스트 데이터 삽입\n",
        "support_history_data = [\n",
        "    (1, 1, '청구 관련 문제', None, None, 'open', datetime.now()),\n",
        "    (2, 1, None, '청구에 문제가 있습니다.', 'user', None, datetime.now()),\n",
        "    (3, 1, None, '문의해주셔서 감사합니다. 문제를 조사하고 있습니다.', 'support', None, datetime.now())\n",
        "]\n",
        "\n",
        "for support in support_history_data:\n",
        "    cursor.execute('''\n",
        "    INSERT INTO support_history (history_id, user_id, subject, message_content, message_type, status, created_at)\n",
        "    VALUES (?, ?, ?, ?, ?, ?, ?)\n",
        "    ''', support)\n",
        "\n",
        "# 변경 사항 커밋\n",
        "conn.commit()\n",
        "\n",
        "# 데이터베이스 접속 종료\n",
        "conn.close()"
      ]
    },
    {
      "cell_type": "markdown",
      "metadata": {
        "id": "oyITdJqdK2RO"
      },
      "source": [
        "## SQL 질의 방법"
      ]
    },
    {
      "cell_type": "code",
      "execution_count": null,
      "metadata": {
        "id": "lzJHRR9DK3au"
      },
      "outputs": [],
      "source": [
        "!pip install langchain-experimental"
      ]
    },
    {
      "cell_type": "code",
      "execution_count": null,
      "metadata": {
        "id": "4tHEaufmLGx2"
      },
      "outputs": [],
      "source": [
        "from langchain import OpenAI\n",
        "from langchain import SQLDatabase\n",
        "from langchain_experimental.sql import SQLDatabaseChain\n",
        "from langchain.chat_models import ChatOpenAI\n",
        "from langchain import PromptTemplate\n",
        "\n",
        "sql_uri = \"sqlite:///user_support.db\"\n",
        "db = SQLDatabase.from_uri(sql_uri)\n",
        "llm = ChatOpenAI(temperature=0.2)\n",
        "template = \\\n",
        "    \"\"\"\n",
        "    사용자 테이블만 대상으로 합니다.\n",
        "    답변은 JSON 형식으로 표시해주세요: [{question}]\n",
        "    예:\n",
        "    [{{\n",
        "        \"last_mame\": \"\",\n",
        "        \"first_name\": \"\",\n",
        "        \"phone\": \"\",\n",
        "        \"email\": \"\"\n",
        "    }}]\n",
        "    \"\"\"\n",
        "prompt = PromptTemplate(template=template, input_variables=[\"question\"])\n",
        "db_chain = SQLDatabaseChain.from_llm(llm, db, verbose=True, output_key=\"Answer\")\n",
        "user = db_chain.run(prompt.format(question=\"모든 사용자를 알려주세요\"))\n",
        "print(user)"
      ]
    },
    {
      "cell_type": "markdown",
      "metadata": {
        "id": "lrX0t7JrMjEK"
      },
      "source": [
        "## 챗봇 구현"
      ]
    },
    {
      "cell_type": "markdown",
      "metadata": {
        "id": "TqhfZg0qMrLk"
      },
      "source": [
        "### ① 사용자 식별"
      ]
    },
    {
      "cell_type": "code",
      "execution_count": null,
      "metadata": {
        "id": "_Sy1Cje_Mk9A"
      },
      "outputs": [],
      "source": [
        "import json\n",
        "\n",
        "sql_uri = \"sqlite:///user_support.db\"\n",
        "db = SQLDatabase.from_uri(sql_uri)\n",
        "llm = ChatOpenAI(temperature=0.2)\n",
        "\n",
        "def find_user(user_text):\n",
        "    template = \\\n",
        "        \"\"\"\n",
        "        사용자 테이블만 대상으로 합니다. 다음 요청문에 대해 사용자를 고유하게 식별하고 싶습니다.\n",
        "        답변은 예와 같이 JSON 형식으로 표시해주세요: 요청문[{question}]\n",
        "\n",
        "        예:\n",
        "        [{{\n",
        "            \"user_id\": ,\n",
        "            \"last_mame\": \"\",\n",
        "            \"first_name\": \"\",\n",
        "            \"phone\": \"\",\n",
        "            \"email\": \"\"\n",
        "        }}]\n",
        "    \"\"\"\n",
        "    prompt = PromptTemplate(template=template, input_variables=[\"question\"])\n",
        "    db_chain = SQLDatabaseChain.from_llm(llm, db, verbose=True, output_key=\"Answer\")\n",
        "    return db_chain.run(prompt.format(question=user_text))\n",
        "\n",
        "if __name__ == \"__main__\":\n",
        "    print(\"\\n고객 정보를 확인합니다. 이름, 전화번호, 사용자 ID, 이메일 등 고객을 식별할 수 있는 정보를 입력해주세요.\")\n",
        "    while True:\n",
        "        user_text = input(\">\")\n",
        "        user_json = find_user(user_text)\n",
        "        try:\n",
        "            users = json.loads(user_json)\n",
        "        except:\n",
        "            print(\"고객 정보를 확인할 수 없습니다. 다시 입력해주세요.\")\n",
        "            continue\n",
        "\n",
        "        if users is None:\n",
        "            print(\"고객 정보를 확인할 수 없습니다. 다시 입력해주세요.\")\n",
        "            continue\n",
        "        if len(users) > 1:\n",
        "            print(\"고객의 고유 정보를 식별할 수 없습니다. 다시 입력해주세요.\")\n",
        "            continue\n",
        "\n",
        "        print(\"고객 정보를 확인했습니다. 감사합니다.\")\n",
        "        break\n",
        "\n",
        "    user = '\\n'.join(f'{key}: {value}' for key, value in users[0].items())\n",
        "\n",
        "    print(user)"
      ]
    },
    {
      "cell_type": "markdown",
      "metadata": {
        "id": "spCCQBhGMyrh"
      },
      "source": [
        "### ② 해당 사용자에 대한 그 외의 정보를 데이터베이스에서 획득"
      ]
    },
    {
      "cell_type": "code",
      "execution_count": null,
      "metadata": {
        "id": "UkZ_6N4wMzn2"
      },
      "outputs": [],
      "source": [
        "from langchain.chains import SQLDatabaseSequentialChain\n",
        "\n",
        "def get_user_info(user):\n",
        "    template = \\\n",
        "        \"\"\"\n",
        "        다음 요청문에서 지정된 사용자 ID의 제품 이름, 가격도 포함한 구매 이력(테이블) 내용을 알고 싶습니다.\n",
        "        답변은 헤더가 있는 CSV 형식으로 출력해 주시기 바랍니다.\n",
        "        요청문[{user}]\n",
        "        \"\"\"\n",
        "    prompt = PromptTemplate(template=template, input_variables=[\"user\"])\n",
        "    chain = SQLDatabaseSequentialChain.from_llm(llm, db, verbose=True)\n",
        "    order_history = chain.run(prompt.format(user=user))\n",
        "\n",
        "    template = \\\n",
        "        \"\"\"\n",
        "        다음 요청문에서 지정된 사용자 ID의 대응 이력(테이블) 내용을 알고 싶습니다.\n",
        "        답변은 헤더가 있는 CSV 형식으로 출력해주시기 바랍니다.\n",
        "        요청문[{user}]\n",
        "        \"\"\"\n",
        "    prompt = PromptTemplate(template=template, input_variables=[\"user\"])\n",
        "    chain = SQLDatabaseSequentialChain.from_llm(llm, db, verbose=True)\n",
        "    support_history = chain.run(prompt.format(user=user))\n",
        "\n",
        "    return f\"구매 이력:\\n{order_history}\\n\\n대응 이력:\\n{support_history}\\n\\n\"\n",
        "\n",
        "if __name__ == \"__main__\":\n",
        "    user_info = get_user_info(user)"
      ]
    },
    {
      "cell_type": "code",
      "execution_count": null,
      "metadata": {
        "id": "HSWnUWKdM4-D"
      },
      "outputs": [],
      "source": [
        "import pprint\n",
        "\n",
        "pprint.pprint(user_info)"
      ]
    },
    {
      "cell_type": "markdown",
      "metadata": {
        "id": "xNyGHj5KM7pm"
      },
      "source": [
        "### ③ 지원 실시"
      ]
    },
    {
      "cell_type": "code",
      "execution_count": null,
      "metadata": {
        "id": "OulFYhebM8ig"
      },
      "outputs": [],
      "source": [
        "from langchain.prompts import (\n",
        "    ChatPromptTemplate,\n",
        "    MessagesPlaceholder,\n",
        "    SystemMessagePromptTemplate,\n",
        "    HumanMessagePromptTemplate\n",
        ")\n",
        "from langchain.chains import ConversationChain\n",
        "from langchain.chat_models import ChatOpenAI\n",
        "from langchain.memory import ConversationBufferMemory\n",
        "\n",
        "template = \\\n",
        "    \"\"\"\n",
        "    ## 사용자 정보\n",
        "        {user}\n",
        "        {user_info}\n",
        "    ## 처리\n",
        "    당신은 고객 응대 전문가입니다.고객의 요구사항에 대해 정확하게 답변해주세요.\n",
        "    고객 응대 시, 위의 사용자 정보를 참고하여 친절하고 정중하게 응대해주세요.\n",
        "    단, 모르는 것은 모른다고 대답해주세요.\n",
        "    \"\"\"\n",
        "\n",
        "system_template = template.format(user=user, user_info=user_info)\n",
        "prompt = ChatPromptTemplate.from_messages([\n",
        "    SystemMessagePromptTemplate.from_template(system_template),\n",
        "    MessagesPlaceholder(variable_name=\"history\"),\n",
        "    HumanMessagePromptTemplate.from_template(\"{input}\")\n",
        "])\n",
        "\n",
        "llm = ChatOpenAI(temperature=0.5)\n",
        "memory = ConversationBufferMemory(return_messages=True)\n",
        "conversation = ConversationChain(memory=memory, prompt=prompt, llm=llm)\n",
        "\n",
        "while True:\n",
        "    command = input(\"질문을 기다리고 있습니다 (q로 종료)>\")\n",
        "\n",
        "    if command == \"q\":\n",
        "        break\n",
        "\n",
        "    response = conversation.predict(input=command)\n",
        "    print(f\"{response}\\n\")"
      ]
    }
  ],
  "metadata": {
    "colab": {
      "provenance": []
    },
    "kernelspec": {
      "display_name": "Python 3",
      "name": "python3"
    },
    "language_info": {
      "name": "python"
    }
  },
  "nbformat": 4,
  "nbformat_minor": 0
}
