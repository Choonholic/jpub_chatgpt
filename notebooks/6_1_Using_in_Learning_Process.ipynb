{
  "cells": [
    {
      "cell_type": "markdown",
      "metadata": {
        "id": "g_SuJ1uieLcN"
      },
      "source": [
        "## [Step 3] 생성 코드로 직접 체험하는 학습"
      ]
    },
    {
      "cell_type": "code",
      "execution_count": null,
      "metadata": {
        "id": "jHKQ6tJJdnj0"
      },
      "outputs": [],
      "source": [
        "!pip install scikit-learn"
      ]
    },
    {
      "cell_type": "code",
      "execution_count": null,
      "metadata": {
        "id": "WPolCZMjeVCQ"
      },
      "outputs": [],
      "source": [
        "from sklearn.datasets import load_iris\n",
        "iris = load_iris()\n",
        "X = iris.data\n",
        "y = iris.target"
      ]
    },
    {
      "cell_type": "code",
      "execution_count": null,
      "metadata": {
        "id": "q1dpaUlzeYHw"
      },
      "outputs": [],
      "source": [
        "import matplotlib.pyplot as plt\n",
        "plt.scatter(X[:, 0], X[:, 1], c=y, cmap=plt.cm.Set1)\n",
        "plt.xlabel('Sepal length')\n",
        "plt.ylabel('Sepal width')\n",
        "plt.show()"
      ]
    },
    {
      "cell_type": "code",
      "execution_count": null,
      "metadata": {
        "id": "GwQGMQ5Yeb2p"
      },
      "outputs": [],
      "source": [
        "from sklearn.svm import SVC\n",
        "svc = SVC(kernel='linear', C=1.0)\n",
        "svc.fit(X[:, :2], y)"
      ]
    },
    {
      "cell_type": "code",
      "execution_count": null,
      "metadata": {
        "id": "JKUWip2AehQ8"
      },
      "outputs": [],
      "source": [
        "import numpy as np\n",
        "x_min, x_max = X[:, 0].min() - 0.5, X[:, 0].max() + 0.5\n",
        "y_min, y_max = X[:, 1].min() - 0.5, X[:, 1].max() + 0.5\n",
        "xx, yy = np.meshgrid(np.arange(x_min, x_max, 0.02), np.arange(y_min, y_max,0.02))\n",
        "Z = svc.predict(np.c_[xx.ravel(), yy.ravel()])\n",
        "Z = Z.reshape(xx.shape)\n",
        "plt.contourf(xx, yy, Z, cmap=plt.cm.Set1, alpha=0.8)\n",
        "plt.scatter(X[:, 0], X[:, 1], c=y, cmap=plt.cm.Set1)\n",
        "plt.xlabel('Sepal length')\n",
        "plt.ylabel('Sepal width')\n",
        "plt.show()"
      ]
    },
    {
      "cell_type": "code",
      "execution_count": null,
      "metadata": {
        "id": "TvWCO18feq3N"
      },
      "outputs": [],
      "source": [
        "from sklearn import datasets\n",
        "from sklearn.model_selection import train_test_split\n",
        "from sklearn.svm import SVC"
      ]
    },
    {
      "cell_type": "code",
      "execution_count": null,
      "metadata": {
        "id": "WcbRA8vBevHk"
      },
      "outputs": [],
      "source": [
        "mnist = datasets.load_digits()\n",
        "X_train, X_test, y_train, y_test = train_test_split(mnist.data, mnist.target, test_size=0.25)"
      ]
    },
    {
      "cell_type": "code",
      "execution_count": null,
      "metadata": {
        "id": "K5SVbJJvez27"
      },
      "outputs": [],
      "source": [
        "clf = SVC(kernel='linear')\n",
        "clf.fit(X_train, y_train)"
      ]
    },
    {
      "cell_type": "code",
      "execution_count": null,
      "metadata": {
        "id": "KjNiyl_Se3AP"
      },
      "outputs": [],
      "source": [
        "score = clf.score(X_test, y_test)\n",
        "print('Accuracy:', score)"
      ]
    },
    {
      "cell_type": "code",
      "execution_count": null,
      "metadata": {
        "id": "GXwMdmPce61k"
      },
      "outputs": [],
      "source": [
        "import matplotlib.pyplot as plt\n",
        "\n",
        "# 테스트 데이터 예측\n",
        "predicted = clf.predict(X_test[:10])\n",
        "\n",
        "# 예측 결과 표시\n",
        "fig, ax = plt.subplots(2, 5, figsize=(10, 5))\n",
        "\n",
        "for i, axi in enumerate(ax.flat):\n",
        "    axi.imshow(X_test[i].reshape(8, 8), cmap='binary')\n",
        "    axi.set(xticks=[], yticks=[])\n",
        "    axi.set_ylabel(f'Predicted: {predicted[i]}', fontsize=14, color='green' if predicted[i] == y_test[i] else 'red')\n",
        "\n",
        "plt.show()"
      ]
    }
  ],
  "metadata": {
    "colab": {
      "provenance": []
    },
    "kernelspec": {
      "display_name": "Python 3",
      "name": "python3"
    },
    "language_info": {
      "name": "python"
    }
  },
  "nbformat": 4,
  "nbformat_minor": 0
}
