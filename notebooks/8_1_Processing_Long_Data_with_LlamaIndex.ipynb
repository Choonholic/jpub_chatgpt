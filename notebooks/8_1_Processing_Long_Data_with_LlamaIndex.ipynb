{
  "cells": [
    {
      "cell_type": "markdown",
      "metadata": {
        "id": "P3jfwB6JE8HJ"
      },
      "source": [
        "## 장문의 외부 데이터와의 연계 체험하기"
      ]
    },
    {
      "cell_type": "code",
      "execution_count": null,
      "metadata": {
        "id": "nr0zlaVqEeQ2"
      },
      "outputs": [],
      "source": [
        "!pip install llama-index"
      ]
    },
    {
      "cell_type": "code",
      "execution_count": null,
      "metadata": {
        "id": "jf0ID1q9FOj7"
      },
      "outputs": [],
      "source": [
        "!git clone https://github.com/run-llama/llama_index.git"
      ]
    },
    {
      "cell_type": "code",
      "execution_count": null,
      "metadata": {
        "id": "TkNG84ZuFUgE"
      },
      "outputs": [],
      "source": [
        "!ls llama_index/docs/docs/examples/data/"
      ]
    },
    {
      "cell_type": "code",
      "execution_count": null,
      "metadata": {
        "id": "LXr_wAX8FZ09"
      },
      "outputs": [],
      "source": [
        "!cp -r llama_index/docs/docs/examples/data/paul_graham data"
      ]
    },
    {
      "cell_type": "code",
      "execution_count": null,
      "metadata": {
        "id": "_KXBmjzbFerX"
      },
      "outputs": [],
      "source": [
        "import os\n",
        "os.environ['OPENAI_API_KEY'] = \"발급받은 API 키\""
      ]
    },
    {
      "cell_type": "code",
      "execution_count": null,
      "metadata": {
        "id": "_v4jlzsJFf3l"
      },
      "outputs": [],
      "source": [
        "!pip install openai"
      ]
    },
    {
      "cell_type": "code",
      "execution_count": null,
      "metadata": {
        "id": "lZRqECk-FkPD"
      },
      "outputs": [],
      "source": [
        "from llama_index.core import VectorStoreIndex, SimpleDirectoryReader\n",
        "\n",
        "documents = SimpleDirectoryReader('data').load_data()\n",
        "index = VectorStoreIndex.from_documents(documents)"
      ]
    },
    {
      "cell_type": "code",
      "execution_count": null,
      "metadata": {
        "id": "iJenS4_eFnGs"
      },
      "outputs": [],
      "source": [
        "query_engine = index.as_query_engine()\n",
        "response = query_engine.query(\"What did the author do growing up?\")\n",
        "print(response)"
      ]
    },
    {
      "cell_type": "code",
      "execution_count": null,
      "metadata": {
        "id": "6tBo81lBFpfA"
      },
      "outputs": [],
      "source": [
        "index.storage_context.persist()"
      ]
    },
    {
      "cell_type": "code",
      "execution_count": null,
      "metadata": {
        "id": "iTxspmLyFsBM"
      },
      "outputs": [],
      "source": [
        "from llama_index.core import StorageContext, load_index_from_storage\n",
        "\n",
        "# 저장소 상황 정보 재생성\n",
        "storage_context = StorageContext.from_defaults(persist_dir=\"./storage\")\n",
        "# 색인 적재\n",
        "index = load_index_from_storage(storage_context)"
      ]
    },
    {
      "cell_type": "code",
      "execution_count": null,
      "metadata": {
        "id": "ud2Tb386FuhL"
      },
      "outputs": [],
      "source": [
        "response = query_engine.query(\"저자는 어떤 성장 과정을 거쳐왔나요? 한국어로 답변 부탁드립니다.\")\n",
        "print(response)"
      ]
    },
    {
      "cell_type": "code",
      "execution_count": null,
      "metadata": {
        "id": "WfkPcTXyFySV"
      },
      "outputs": [],
      "source": [
        "response = query_engine.query(\"What did the author do growing up? Please give a response in Korean.\")\n",
        "print(response)"
      ]
    },
    {
      "cell_type": "code",
      "execution_count": null,
      "metadata": {
        "id": "mqX2WDlhF2fN"
      },
      "outputs": [],
      "source": [
        "from llama_index.core import VectorStoreIndex, SimpleDirectoryReader\n",
        "\n",
        "documents = SimpleDirectoryReader('data2').load_data()\n",
        "index2 = VectorStoreIndex.from_documents(documents)"
      ]
    },
    {
      "cell_type": "code",
      "execution_count": null,
      "metadata": {
        "id": "xEv17BIBF5rT"
      },
      "outputs": [],
      "source": [
        "index2.storage_context.persist('index_constitution')"
      ]
    },
    {
      "cell_type": "code",
      "execution_count": null,
      "metadata": {
        "id": "JAcM8cp_F7-X"
      },
      "outputs": [],
      "source": [
        "query_engine2 = index2.as_query_engine()"
      ]
    },
    {
      "cell_type": "code",
      "execution_count": null,
      "metadata": {
        "id": "mY7kPOY6F8kD"
      },
      "outputs": [],
      "source": [
        "response = query_engine2.query(\"국민이 가진 권리 중 중요한 것을 목록으로 나열해주세요. 그것이 몇 조에 있는 항목인지도 알려주세요.\")\n",
        "print(response)"
      ]
    },
    {
      "cell_type": "markdown",
      "metadata": {
        "id": "QDn--qKTGD0K"
      },
      "source": [
        "## 적재기 사용하기"
      ]
    },
    {
      "cell_type": "markdown",
      "metadata": {
        "id": "SgBfQ11zGT20"
      },
      "source": [
        "### 웹 페이지에서 정보 적재하기"
      ]
    },
    {
      "cell_type": "code",
      "execution_count": null,
      "metadata": {
        "id": "Lupt0cfJGG4N"
      },
      "outputs": [],
      "source": [
        "from llama_index.core import VectorStoreIndex, download_loader\n",
        "\n",
        "BeautifulSoupWebReader = download_loader(\"BeautifulSoupWebReader\")\n",
        "\n",
        "loader = BeautifulSoupWebReader()\n",
        "documents = loader.load_data(urls=['https://www.law.go.kr/법령/대한민국헌법'])"
      ]
    },
    {
      "cell_type": "code",
      "execution_count": null,
      "metadata": {
        "id": "H5Ue5zfnGMtb"
      },
      "outputs": [],
      "source": [
        "indexw = VectorStoreIndex.from_documents(documents)\n",
        "query_engine_w = indexw.as_query_engine()"
      ]
    },
    {
      "cell_type": "code",
      "execution_count": null,
      "metadata": {
        "id": "6tJMHUkdGO4V"
      },
      "outputs": [],
      "source": [
        "response = query_engine_w.query(\"요약을 부탁합니다.\")\n",
        "print(response)"
      ]
    },
    {
      "cell_type": "markdown",
      "metadata": {
        "id": "P2-pjRrEGViR"
      },
      "source": [
        "### PDF 문서에서 정보 적재하기"
      ]
    },
    {
      "cell_type": "code",
      "execution_count": null,
      "metadata": {
        "id": "5ZQd5zbYGYwT"
      },
      "outputs": [],
      "source": [
        "!pip install pypdf"
      ]
    },
    {
      "cell_type": "code",
      "execution_count": null,
      "metadata": {
        "id": "HeVy5jJbGdKu"
      },
      "outputs": [],
      "source": [
        "from pathlib import Path\n",
        "from llama_index.core import VectorStoreIndex, download_loader\n",
        "\n",
        "PDFReader = download_loader(\"PDFReader\")\n",
        "\n",
        "loader = PDFReader()\n",
        "documents = loader.load_data(file=Path('./attention.pdf'))"
      ]
    },
    {
      "cell_type": "code",
      "execution_count": null,
      "metadata": {
        "id": "K6Z1O0zoGgBE"
      },
      "outputs": [],
      "source": [
        "index_pdf = VectorStoreIndex.from_documents(documents)\n",
        "query_engine_pdf = index_pdf.as_query_engine()"
      ]
    },
    {
      "cell_type": "code",
      "execution_count": null,
      "metadata": {
        "id": "aZL4kOM1GiAW"
      },
      "outputs": [],
      "source": [
        "response = query_engine_pdf.query(\"Please summarize this. Please explain it in a way that even a child can understand.\")\n",
        "print(response)"
      ]
    },
    {
      "cell_type": "code",
      "execution_count": null,
      "metadata": {
        "id": "C-d4EMKeGkxH"
      },
      "outputs": [],
      "source": [
        "response = query_engine_pdf.query(\"Explain about attention heads. Please explain it in a way that even a child can understand.\")\n",
        "print(response)"
      ]
    }
  ],
  "metadata": {
    "colab": {
      "provenance": []
    },
    "kernelspec": {
      "display_name": "Python 3",
      "name": "python3"
    },
    "language_info": {
      "name": "python"
    }
  },
  "nbformat": 4,
  "nbformat_minor": 0
}
