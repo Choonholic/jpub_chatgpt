{
  "cells": [
    {
      "cell_type": "markdown",
      "metadata": {
        "id": "Vj3O7n23JjuY"
      },
      "source": [
        "## 일단 사용해 봅시다"
      ]
    },
    {
      "cell_type": "code",
      "execution_count": null,
      "metadata": {
        "id": "25Nmhm-4JUY2"
      },
      "outputs": [],
      "source": [
        "!pip install langchain\n",
        "!pip install openai"
      ]
    },
    {
      "cell_type": "code",
      "execution_count": null,
      "metadata": {
        "id": "InJGxsIjJp4j"
      },
      "outputs": [],
      "source": [
        "import os\n",
        "os.environ['OPENAI_API_KEY'] = \"발급받은 API 키\""
      ]
    },
    {
      "cell_type": "code",
      "execution_count": null,
      "metadata": {
        "id": "-rJUze1GJsJ4"
      },
      "outputs": [],
      "source": [
        "from langchain.llms import OpenAI\n",
        "\n",
        "llm = OpenAI(temperature=0.5)\n",
        "text = \"피보나치 수열을 구하는 Python 프로그램을 작성해주세요.\"\n",
        "print(llm(text))"
      ]
    },
    {
      "cell_type": "code",
      "execution_count": null,
      "metadata": {
        "id": "UcoMQqRiJvDm"
      },
      "outputs": [],
      "source": [
        "def fibonacci(n):\n",
        "    if n == 0:\n",
        "        return 0\n",
        "    elif n == 1:\n",
        "        return 1\n",
        "    else:\n",
        "        return fibonacci(n-1) + fibonacci(n-2)\n",
        "\n",
        "for i in range(10):\n",
        "    print(fibonacci(i))"
      ]
    },
    {
      "cell_type": "markdown",
      "metadata": {
        "id": "42ofyYbMJxbJ"
      },
      "source": [
        "## 단독 체인으로 질의하기"
      ]
    },
    {
      "cell_type": "code",
      "execution_count": null,
      "metadata": {
        "id": "lWYGVRoCJzHw"
      },
      "outputs": [],
      "source": [
        "from langchain.prompts import PromptTemplate\n",
        "from langchain.chat_models import ChatOpenAI\n",
        "from langchain.chains import LLMChain\n",
        "\n",
        "llm = ChatOpenAI()\n",
        "prompt = PromptTemplate(\n",
        "    input_variables=[\"product\"],\n",
        "    template=\"Python으로 다음 프로그램 코드에 테스트 코드를 추가하여 작성해주세요.: {product}\",\n",
        ")\n",
        "\n",
        "chain = LLMChain(llm=llm, prompt=prompt)\n",
        "chain.run(\"피보나치 수열을 구한다\")"
      ]
    },
    {
      "cell_type": "markdown",
      "metadata": {
        "id": "scnDYsjfJ4NU"
      },
      "source": [
        "## 단독 체인을 연결해 보기"
      ]
    },
    {
      "cell_type": "code",
      "execution_count": null,
      "metadata": {
        "id": "65ytUQwpJ6sF"
      },
      "outputs": [],
      "source": [
        "from langchain.prompts import PromptTemplate\n",
        "from langchain.chat_models import ChatOpenAI\n",
        "from langchain.chains import LLMChain\n",
        "\n",
        "llm = ChatOpenAI()\n",
        "\n",
        "prompt = PromptTemplate(\n",
        "    input_variables=[\"product\"],\n",
        "    template=\"다음에 제시한 테마의 가치를 정의하고 새로운 비즈니스의 가능성을 개념적으로 800자 이내로 생각해주세요: {product}\",\n",
        ")\n",
        "\n",
        "chain = LLMChain(llm=llm, prompt=prompt)\n",
        "idea = chain.run(\"농업\")\n",
        "\n",
        "print(idea)"
      ]
    },
    {
      "cell_type": "code",
      "execution_count": null,
      "metadata": {
        "id": "vfVtI0NJKAog"
      },
      "outputs": [],
      "source": [
        "prompt = PromptTemplate(\n",
        "    input_variables=[\"idea\"],\n",
        "    template=\"다음 아이디어로 구체적인 계획을 다섯 개 생각하고, IT가 효과적으로 공헌 가능한 순서대로 제시해주세요: {idea}\",\n",
        ")\n",
        "\n",
        "chain2 = LLMChain(llm=llm, prompt=prompt)\n",
        "plan = chain2.run(idea)\n",
        "\n",
        "print(plan)"
      ]
    },
    {
      "cell_type": "code",
      "execution_count": null,
      "metadata": {
        "id": "4tsl_EWmKB6L"
      },
      "outputs": [],
      "source": [
        "prompt = PromptTemplate(\n",
        "   input_variables=[\"plan\"],\n",
        "   template=\"제시된 다섯 개의 계획 중에 첫 번째 계획만 쪼개서 기획서의 형태로 구성하고, 상세 내용을 포함해서 제시해주세요: {plan}\"\n",
        ")\n",
        "\n",
        "chain3 = LLMChain(llm=llm, prompt=prompt)\n",
        "proposal = chain3.run(plan)\n",
        "\n",
        "print(proposal)"
      ]
    },
    {
      "cell_type": "markdown",
      "metadata": {
        "id": "c5ya5mEnKG19"
      },
      "source": [
        "## SimpleSequentialChain으로 한 번에 연결하기"
      ]
    },
    {
      "cell_type": "code",
      "execution_count": null,
      "metadata": {
        "id": "X19h0_JYKH9j"
      },
      "outputs": [],
      "source": [
        "from langchain.chains import SimpleSequentialChain\n",
        "\n",
        "overall_chain = SimpleSequentialChain(chains=[chain, chain2, chain3], verbose=True)\n",
        "print(overall_chain(\"농업\"))"
      ]
    },
    {
      "cell_type": "markdown",
      "metadata": {
        "id": "MxeKKj9HKPSz"
      },
      "source": [
        "## SequentialChain으로 여러 개의 결과 얻기"
      ]
    },
    {
      "cell_type": "code",
      "execution_count": null,
      "metadata": {
        "id": "Z8hLhhJyKQY6"
      },
      "outputs": [],
      "source": [
        "from langchain.chains import SequentialChain\n",
        "from langchain.chains import LLMChain\n",
        "from langchain.chat_models import ChatOpenAI\n",
        "from langchain.prompts import PromptTemplate\n",
        "\n",
        "llm = ChatOpenAI()\n",
        "\n",
        "# 아이디어 생성 (LLMChain)\n",
        "template = \"다음에 제시한 테마의 가치를 정의하고 새로운 비즈니스의 가능성을 개념적으로 800자 이내로 생각해주세요: {job}\"\n",
        "prompt_template = PromptTemplate(input_variables=[\"job\"], template=template)\n",
        "idea_chain = LLMChain(llm=llm, prompt=prompt_template, output_key=\"idea\")\n",
        "\n",
        "# 아이디어를 기반으로 계획 생성 (LLMChain)\n",
        "template=\"다음 아이디어로 구체적인 계획을 다섯 개 생각하고, 각 계획별로 세부 실행 사항을 나열하되, IT가 효과적으로 공헌 가능한 순서대로 제시해주세요: {idea}\"\n",
        "prompt_template = PromptTemplate(input_variables=[\"idea\"], template=template)\n",
        "plan_chain = LLMChain(llm=llm, prompt=prompt_template, output_key=\"plan\")\n",
        "\n",
        "# 아이디어와 계획의 두 개의 입력을 받아 첫 번째 계획의 계획서 작성\n",
        "template = \"제시된 다섯 개의 계획 중에 첫 번째 계획만 쪼개서 기획서의 형태로 구성하고, 상세 내용을 포함해서 제시해주세요: {plan}\"\n",
        "prompt_template = PromptTemplate(input_variables=[\"plan\"], template=template)\n",
        "proposal_chain_1 = LLMChain(llm=llm, prompt=prompt_template, output_key=\"proposal_1\")\n",
        "\n",
        "# 아이디어와 계획의 두 개의 입력을 받아 두 번째 계획의 계획서 작성\n",
        "template = \"제시된 다섯 개의 계획 중에 두 번째 계획만 쪼개서 기획서의 형태로 구성하고, 상세 내용을 포함해서 제시해주세요: {plan}\"\n",
        "prompt_template = PromptTemplate(input_variables=[\"plan\"], template=template)\n",
        "proposal_chain_2 = LLMChain(llm=llm, prompt=prompt_template, output_key=\"proposal_2\")\n",
        "\n",
        "# 이 네 개의 체인을 순차적으로 실행하는 전체적인 체인\n",
        "overall_chain = SequentialChain(\n",
        "    chains=[idea_chain, plan_chain, proposal_chain_1,proposal_chain_2],\n",
        "    input_variables=[\"job\"],\n",
        "    output_variables=[\"idea\", \"plan\", \"proposal_1\", \"proposal_2\"],\n",
        "    verbose=True,\n",
        ")\n",
        "\n",
        "# 최적화 후 결과 반환\n",
        "results = overall_chain(\"농업\")\n",
        "\n",
        "# 결과 출력\n",
        "print(results)"
      ]
    },
    {
      "cell_type": "code",
      "execution_count": null,
      "metadata": {
        "id": "3EkvpVCZKWXs"
      },
      "outputs": [],
      "source": [
        "print(results['proposal_1'])"
      ]
    }
  ],
  "metadata": {
    "colab": {
      "provenance": []
    },
    "kernelspec": {
      "display_name": "Python 3",
      "name": "python3"
    },
    "language_info": {
      "name": "python"
    }
  },
  "nbformat": 4,
  "nbformat_minor": 0
}
