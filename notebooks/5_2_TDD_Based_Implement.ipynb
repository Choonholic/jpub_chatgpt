{
  "cells": [
    {
      "cell_type": "code",
      "execution_count": null,
      "metadata": {
        "id": "cqEOhgwVb2Fb"
      },
      "outputs": [],
      "source": [
        "import unittest\n",
        "\n",
        "class TestCalcString(unittest.TestCase):\n",
        "    def test_calc_string_with_valid_input(self):\n",
        "        self.assertEqual(calc_string('1+1'), '2')\n",
        "        self.assertEqual(calc_string('1-1'), '0')\n",
        "        self.assertEqual(calc_string('1*10'), '10')\n",
        "        self.assertAlmostEqual(float(calc_string('1/3')), 0.333, places=2)\n",
        "        self.assertEqual(calc_string('(1+1)*5'), '10')\n",
        "        self.assertAlmostEqual(float(calc_string('(3+1)/2')), 2.0, places=2)\n",
        "\n",
        "    def test_calc_string_with_invalid_input(self):\n",
        "        with self.assertRaises(ValueError):\n",
        "            calc_string('')\n",
        "        with self.assertRaises(ValueError):\n",
        "            calc_string('(1+2')\n",
        "        with self.assertRaises(ValueError):\n",
        "            calc_string('1+2)')\n",
        "        with self.assertRaises(ValueError):\n",
        "            calc_string('2*3+')\n",
        "        with self.assertRaises(ValueError):\n",
        "            calc_string('1/0')"
      ]
    },
    {
      "cell_type": "code",
      "execution_count": null,
      "metadata": {
        "id": "YH_ZpzYCcdun"
      },
      "outputs": [],
      "source": [
        "import re\n",
        "import unittest\n",
        "\n",
        "def calc_string(input_string):\n",
        "    if re.match(r'^[\\d+\\-*/\\(\\) ]+$', input_string) and input_string.count('(') == input_string.count(')'):\n",
        "        try:\n",
        "            return str(eval(input_string))\n",
        "        except ZeroDivisionError:\n",
        "            raise ValueError(\"Cannot divide by zero.\")\n",
        "        except:\n",
        "            raise ValueError(\"Invalid calculation.\")\n",
        "    else:\n",
        "        raise ValueError(\"Invalid input.\")"
      ]
    },
    {
      "cell_type": "code",
      "execution_count": null,
      "metadata": {
        "id": "11ycMu29cjtO"
      },
      "outputs": [],
      "source": [
        "import ast\n",
        "import operator as op\n",
        "import unittest\n",
        "\n",
        "# 지원 가능 연산자\n",
        "operators = {ast.Add: op.add, ast.Sub: op.sub, ast.Mult: op.mul, ast.Div: op.truediv}\n",
        "\n",
        "def eval_expr(node):\n",
        "    if isinstance(node, ast.Num):  # <number>\n",
        "        return node.n\n",
        "    elif isinstance(node, ast.BinOp):  # <left> <operator> <right>\n",
        "        return operators[type(node.op)](eval_expr(node.left), eval_expr(node.right))\n",
        "    elif isinstance(node, ast.UnaryOp):  # <operator> <operand> e.g., -1\n",
        "        return operators[type(node.op)](eval_expr(node.operand))\n",
        "    else:\n",
        "        raise TypeError(node)\n",
        "\n",
        "def calc_string(s):\n",
        "    # 구문 분석 전에 문자열을 튜플로 감싸기\n",
        "    node = ast.parse(f\"({s})\", mode='eval')\n",
        "\n",
        "    if not isinstance(node.body, (ast.BinOp, ast.Num)):\n",
        "        raise ValueError(\"Invalid calculation.\")\n",
        "    try:\n",
        "        return str(eval_expr(node.body))\n",
        "    except ZeroDivisionError:\n",
        "        raise ValueError(\"Cannot divide by zero.\")\n",
        "    except:\n",
        "        raise ValueError(\"Invalid calculation.\")"
      ]
    },
    {
      "cell_type": "code",
      "execution_count": null,
      "metadata": {
        "id": "pv6WgH9Tcszk"
      },
      "outputs": [],
      "source": [
        "import ast\n",
        "import operator as op\n",
        "import unittest\n",
        "\n",
        "# 지원 가능 연산자\n",
        "operators = {ast.Add: op.add, ast.Sub: op.sub, ast.Mult: op.mul, ast.Div: op.truediv}\n",
        "\n",
        "def eval_expr(node):\n",
        "    if isinstance(node, ast.Num):  # <number>\n",
        "        return node.n\n",
        "    elif isinstance(node, ast.BinOp):  # <left> <operator> <right>\n",
        "        return operators[type(node.op)](eval_expr(node.left), eval_expr(node.right))\n",
        "    elif isinstance(node, ast.UnaryOp):  # <operator> <operand> e.g., -1\n",
        "        return operators[type(node.op)](eval_expr(node.operand))\n",
        "    else:\n",
        "        raise TypeError(node)\n",
        "\n",
        "def calc_string(s):\n",
        "    try:\n",
        "        # 구문 분석 전에 문자열을 튜플로 감싸기\n",
        "        node = ast.parse(f\"({s})\", mode='eval')\n",
        "\n",
        "        if not isinstance(node.body, (ast.BinOp, ast.Num)):\n",
        "            raise ValueError(\"Invalid calculation.\")\n",
        "        return str(eval_expr(node.body))\n",
        "    except SyntaxError:\n",
        "        raise ValueError(\"Invalid input.\")\n",
        "    except ZeroDivisionError:\n",
        "        raise ValueError(\"Cannot divide by zero.\")\n",
        "    except:\n",
        "        raise ValueError(\"Invalid calculation.\")"
      ]
    }
  ],
  "metadata": {
    "colab": {
      "provenance": []
    },
    "kernelspec": {
      "display_name": "Python 3",
      "name": "python3"
    },
    "language_info": {
      "name": "python"
    }
  },
  "nbformat": 4,
  "nbformat_minor": 0
}
