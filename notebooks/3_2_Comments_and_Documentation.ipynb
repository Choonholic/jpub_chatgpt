{
  "cells": [
    {
      "cell_type": "markdown",
      "metadata": {
        "id": "zDdvi0V0o-_M"
      },
      "source": [
        "## 인라인 주석을 추가해 달라고 하기"
      ]
    },
    {
      "cell_type": "code",
      "execution_count": null,
      "metadata": {
        "id": "ttxnsP3Eo1TA"
      },
      "outputs": [],
      "source": [
        "def process_data(data):\n",
        "    result = []\n",
        "\n",
        "    for item in data:\n",
        "        if item % 2 == 0:\n",
        "            result.append(item * 2)\n",
        "        else:\n",
        "            result.append(item * -1)\n",
        "\n",
        "    return result\n",
        "\n",
        "data = [1, 2, 3, 4, 5]\n",
        "processed_data = process_data(data)\n",
        "print(processed_data)"
      ]
    },
    {
      "cell_type": "code",
      "execution_count": null,
      "metadata": {
        "id": "vzr2LXuvpE0b"
      },
      "outputs": [],
      "source": [
        "def process_data(data):\n",
        "    result = [] # 결과를 저장하기 위한 빈 배열을 초기화\n",
        "\n",
        "    # 입력 데이터의 각 요소에 대해 반복 처리\n",
        "    for item in data:\n",
        "        # 요소의 홀짝수를 확인\n",
        "        if item % 2 == 0:\n",
        "            # 짝수인 경우, 값을 2배로 바꿔 결과 목록에 추가\n",
        "            result.append(item * 2)\n",
        "        else:\n",
        "            # 홀수인 경우, 값을 음수로 바꿔 결과 목록에 추가\n",
        "            result.append(item * -1)\n",
        "\n",
        "    return result # 처리된 데이터를 반환\n",
        "\n",
        "# 예제 입력 데이터\n",
        "data = [1, 2, 3, 4, 5]\n",
        "# process_data 함수를 사용하여 입력 데이터 처리\n",
        "processed_data = process_data(data)\n",
        "# 처리된 데이터를 출력\n",
        "print(processed_data)"
      ]
    },
    {
      "cell_type": "markdown",
      "metadata": {
        "id": "6YaEoMSSpQ_x"
      },
      "source": [
        "## 함수 문서를 추가해 달라고 하기"
      ]
    },
    {
      "cell_type": "code",
      "execution_count": null,
      "metadata": {
        "id": "lsIyOcl3pUKP"
      },
      "outputs": [],
      "source": [
        "def process_data(data):\n",
        "    result = []\n",
        "\n",
        "    for item in data:\n",
        "        if item % 2 == 0:\n",
        "            result.append(item * 2)\n",
        "        else:\n",
        "            result.append(item * -1)\n",
        "\n",
        "    return result"
      ]
    },
    {
      "cell_type": "code",
      "execution_count": null,
      "metadata": {
        "id": "udzEdTfgpVYA"
      },
      "outputs": [],
      "source": [
        "def process_data(data):\n",
        "    \"\"\"\n",
        "    주어진 정수 리스트의 각 요소에 대해 처리를 진행해, 새로운 리스트를 생성합니다.\n",
        "    짝수 요소는 2배로 만들고, 홀수 요소는 음수로 반전시킵니다.\n",
        "\n",
        "    Parameters:\n",
        "    data (list of int): 처리 대상인 정수 리스트\n",
        "\n",
        "    Returns:\n",
        "    list of int: 처리 결과의 정수 리스트\n",
        "    \"\"\"\n",
        "    result = []\n",
        "\n",
        "    for item in data:\n",
        "        if item % 2 == 0:\n",
        "            result.append(item * 2)\n",
        "        else:\n",
        "            result.append(item * -1)\n",
        "\n",
        "    return result"
      ]
    },
    {
      "cell_type": "code",
      "execution_count": null,
      "metadata": {
        "id": "NZGqQYqEpg9a"
      },
      "outputs": [],
      "source": [
        "help(process_data)"
      ]
    }
  ],
  "metadata": {
    "colab": {
      "provenance": []
    },
    "kernelspec": {
      "display_name": "Python 3",
      "name": "python3"
    },
    "language_info": {
      "name": "python"
    }
  },
  "nbformat": 4,
  "nbformat_minor": 0
}
