{
  "cells": [
    {
      "cell_type": "code",
      "execution_count": null,
      "metadata": {
        "id": "6411VVtiXr2Z"
      },
      "outputs": [],
      "source": [
        "import requests\n",
        "from bs4 import BeautifulSoup\n",
        "\n",
        "url = \"https://jpub.tistory.com/category/출간%20전%20책%20소식\"\n",
        "\n",
        "res = requests.get(url)\n",
        "soup = BeautifulSoup(res.content, \"html.parser\")\n",
        "titles = soup.find_all(\"span\", class_=\"title\")\n",
        "\n",
        "for title in titles:\n",
        "    print(title.text.strip())"
      ]
    },
    {
      "cell_type": "code",
      "execution_count": null,
      "metadata": {
        "id": "PuPDXFbGYa8k"
      },
      "outputs": [],
      "source": [
        "import requests\n",
        "from bs4 import BeautifulSoup\n",
        "\n",
        "url = \"https://jpub.tistory.com/category/출간%20전%20책%20소식\"\n",
        "\n",
        "res = requests.get(url)\n",
        "soup = BeautifulSoup(res.content, \"html.parser\")\n",
        "items = soup.find_all(\"div\", class_=\"post-item\")\n",
        "\n",
        "for item in items:\n",
        "    title = item.find(\"span\", class_=\"title\").text.strip()\n",
        "    excerpt = item.find(\"span\", class_=\"excerpt\").text.strip()\n",
        "    print(\"Title: \", title)\n",
        "    print(\"Excerpt: \", excerpt)\n",
        "    print()"
      ]
    },
    {
      "cell_type": "code",
      "execution_count": null,
      "metadata": {
        "id": "_C565S6-YhDM"
      },
      "outputs": [],
      "source": [
        "import requests\n",
        "from bs4 import BeautifulSoup\n",
        "import pandas as pd\n",
        "\n",
        "url = \"https://jpub.tistory.com/category/출간%20전%20책%20소식\"\n",
        "\n",
        "res = requests.get(url)\n",
        "soup = BeautifulSoup(res.content, \"html.parser\")\n",
        "\n",
        "titles = []\n",
        "excerpts = []\n",
        "\n",
        "items = soup.find_all(\"div\", class_=\"post-item\")\n",
        "\n",
        "for item in items:\n",
        "    title = item.find(\"span\", class_=\"title\").text.strip()\n",
        "    excerpt = item.find(\"span\", class_=\"excerpt\").text.strip()\n",
        "\n",
        "    titles.append(title)\n",
        "    excerpts.append(excerpt)\n",
        "\n",
        "df = pd.DataFrame({\n",
        "    \"Title\": titles,\n",
        "    \"Excerpt\": excerpts\n",
        "})\n",
        "\n",
        "print(df)"
      ]
    },
    {
      "cell_type": "code",
      "execution_count": null,
      "metadata": {
        "id": "9WLWnPgPYmra"
      },
      "outputs": [],
      "source": [
        "import re\n",
        "import requests\n",
        "from bs4 import BeautifulSoup\n",
        "import pandas as pd\n",
        "\n",
        "url = \"https://jpub.tistory.com/category/출간%20전%20책%20소식\"\n",
        "\n",
        "res = requests.get(url)\n",
        "soup = BeautifulSoup(res.content, \"html.parser\")\n",
        "\n",
        "titles = []\n",
        "excerpts = []\n",
        "\n",
        "items = soup.find_all(\"div\", class_=\"post-item\")\n",
        "\n",
        "for item in items:\n",
        "    title = item.find(\"span\", class_=\"title\").text.strip()\n",
        "    excerpt = item.find(\"span\", class_=\"excerpt\").text.strip()\n",
        "    # 정규표현식을 이용해 100자가 넘을 경우, 97자만 남기고 뒤에 ...을 붙입니다\n",
        "    pattern = r\"^(.{1,97}).*$\"\n",
        "    replacement = r\"\\1...\"\n",
        "    excerpt = re.sub(pattern, replacement, excerpt)\n",
        "\n",
        "    titles.append(title)\n",
        "    excerpts.append(excerpt)\n",
        "\n",
        "df = pd.DataFrame({\n",
        "    \"Title\": titles,\n",
        "    \"Excerpt\": excerpts\n",
        "})\n",
        "\n",
        "print(df)"
      ]
    },
    {
      "cell_type": "code",
      "execution_count": null,
      "metadata": {
        "id": "NEziW6F6YuXH"
      },
      "outputs": [],
      "source": [
        "import re\n",
        "import requests\n",
        "from bs4 import BeautifulSoup\n",
        "import pandas as pd\n",
        "\n",
        "url = \"https://jpub.tistory.com/category/출간%20전%20책%20소식\"\n",
        "\n",
        "res = requests.get(url)\n",
        "soup = BeautifulSoup(res.content, \"html.parser\")\n",
        "\n",
        "titles = []\n",
        "excerpts = []\n",
        "\n",
        "items = soup.find_all(\"div\", class_=\"post-item\")\n",
        "\n",
        "for item in items:\n",
        "    title = item.find(\"span\", class_=\"title\").text.strip()\n",
        "    excerpt = item.find(\"span\", class_=\"excerpt\").text.strip()\n",
        "    # 정규표현식을 이용해 100자가 넘을 경우, 97자만 남기고 뒤에 ...을 붙입니다\n",
        "    pattern = r\"^(.{1,97}).*$\"\n",
        "    replacement = r\"\\1...\"\n",
        "    excerpt = re.sub(pattern, replacement, excerpt)\n",
        "\n",
        "    titles.append(title)\n",
        "    excerpts.append(excerpt)\n",
        "\n",
        "df = pd.DataFrame({\n",
        "    \"Title\": titles,\n",
        "    \"Excerpt\": excerpts\n",
        "})\n",
        "\n",
        "# 데이터 프레임을 CSV 파일로 출력합니다\n",
        "df.to_csv(\"jpub_newbooks_list.csv\", index=False)"
      ]
    }
  ],
  "metadata": {
    "colab": {
      "provenance": []
    },
    "kernelspec": {
      "display_name": "Python 3",
      "name": "python3"
    },
    "language_info": {
      "name": "python"
    }
  },
  "nbformat": 4,
  "nbformat_minor": 0
}
