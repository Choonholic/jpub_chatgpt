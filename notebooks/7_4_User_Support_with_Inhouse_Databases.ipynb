{
  "cells": [
    {
      "cell_type": "code",
      "execution_count": null,
      "metadata": {
        "id": "5WiM6i2zleWA"
      },
      "outputs": [],
      "source": [
        "!pip install openai"
      ]
    },
    {
      "cell_type": "code",
      "execution_count": null,
      "metadata": {
        "id": "_vb5D4drlyOZ"
      },
      "outputs": [],
      "source": [
        "import os\n",
        "os.environ['OPENAI_API_KEY'] = \"발급받은 API 키\""
      ]
    },
    {
      "cell_type": "markdown",
      "metadata": {
        "id": "CB0EGYEYly3A"
      },
      "source": [
        "### 0. 선행 준비"
      ]
    },
    {
      "cell_type": "code",
      "execution_count": null,
      "metadata": {
        "id": "KtUdUWWcl2DB"
      },
      "outputs": [],
      "source": [
        "import os\n",
        "import sys\n",
        "from openai import OpenAI\n",
        "from sqlalchemy import create_engine, MetaData\n",
        "from sqlalchemy.orm import sessionmaker\n",
        "from sqlalchemy.sql import text\n",
        "from sqlalchemy.exc import SQLAlchemyError\n",
        "from tabulate import tabulate\n",
        "import json\n",
        "from json.decoder import JSONDecodeError\n",
        "\n",
        "client = OpenAI()\n",
        "\n",
        "engine = create_engine('sqlite:///user_support.db', echo=False)\n",
        "\n",
        "def init_meta_data():\n",
        "    # 메타데이터 작성, 테이블 정보를 반영하기 위해 엔진에서 테이블 정보를 읽음\n",
        "    metadata = MetaData()\n",
        "    metadata.reflect(bind=engine)\n",
        "\n",
        "    # 메타데이터의 테이블 정보로부터 테이블 이름과 컬럼 이름을 편집\n",
        "    meta_text = ''\n",
        "    for table in metadata.tables.values():\n",
        "        meta_text += '테이블 이름: '+ table.name + '\\n'\n",
        "        for column in table.columns:\n",
        "            meta_text += f'컬럼 이름: {column.name}, 형식: {column.type}\\n'\n",
        "        meta_text += '\\n'\n",
        "    return meta_text\n",
        "\n",
        "def exec_sql(sql):\n",
        "    Session = sessionmaker(bind=engine)\n",
        "\n",
        "    error_text = \"None\"\n",
        "    rows = []\n",
        "    tabled = \"\"\n",
        "    dict_array = []\n",
        "\n",
        "    try:\n",
        "        with Session() as session:\n",
        "            t = text (sql)\n",
        "            result = session.execute(t)\n",
        "\n",
        "            header = [k for k in result.keys()]\n",
        "\n",
        "            rows = result.fetchall()\n",
        "            tabled = tabulate(rows,header, tablefmt=\"plain\")\n",
        "\n",
        "            dict_array = []\n",
        "            for row in rows:\n",
        "                dict_row = {}\n",
        "                for i in range(len(header)):\n",
        "                    dict_row[header[i]] = row[i]\n",
        "                dict_array.append(dict_row)\n",
        "            #print(tabled)\n",
        "            #print()\n",
        "\n",
        "    except SQLAlchemyError as e:\n",
        "        print(f'Exception Excute SQL: {e}\\n')\n",
        "        error_text = str(e)\n",
        "\n",
        "    return {\n",
        "        \"read_count\": len(rows),\n",
        "        \"tabled\": tabled,\n",
        "        \"dict_array\": dict_array,\n",
        "        \"error\": error_text\n",
        "    }\n",
        "\n",
        "def exec_api(user_text=\"\", user_info=\"\", prompt=\"\", meta_text=\"\", summary=\"\", temperature=0):\n",
        "    response = client.chat.completions.create(\n",
        "        model=\"gpt-3.5-turbo\",\n",
        "        temperature = temperature,\n",
        "        messages=[\n",
        "            {\n",
        "                \"role\": \"user\",\n",
        "                        \"content\": prompt.format(\n",
        "                            user_text=user_text,\n",
        "                            user_info=user_info,\n",
        "                            prompt=prompt,\n",
        "                            meta_text=meta_text,\n",
        "                            summary=summary)\n",
        "            }\n",
        "        ],\n",
        "    )\n",
        "\n",
        "    return response.choices[0].message.content.strip()"
      ]
    },
    {
      "cell_type": "markdown",
      "metadata": {
        "id": "f_bTa0l_mCT9"
      },
      "source": [
        "### 1. 사용자 식별 작업"
      ]
    },
    {
      "cell_type": "code",
      "execution_count": null,
      "metadata": {
        "id": "KT8-zBrRmFOb"
      },
      "outputs": [],
      "source": [
        "def find_user(user_text):\n",
        "    prompt=\"\"\"\n",
        "        {{\n",
        "            \"prompt\": \"\n",
        "            ## DB 정보\n",
        "            {meta_text}\n",
        "\n",
        "            ## 처리\n",
        "            사용자 테이블을 참조하여 다음 요청문에 대해 고유한 사용자를 식별하고 싶습니다.\n",
        "            그 답변(SQL문은 포함하지 않음)과 SQL문(ID, 이름, 전화번호, 이메일)을 엄격한 JSON 형식으로 다음과 같이 제공해주시기 바랍니다.\n",
        "            참고로, 한글 이름은 last_name이 먼저입니다.\n",
        "            설명문은 필요하지 않으므로 표시하지 않도록 해주세요.:\n",
        "                {{\n",
        "                    \"response\": {{\n",
        "                        \"message\": \"사용자를 DB에 질의합니다\",\n",
        "                        \"sql_query\": \"SQL 문\"\n",
        "                    }}\n",
        "                }}\n",
        "\n",
        "                요청: [{user_text}]\n",
        "            }}\n",
        "        }}\n",
        "    \"\"\"\n",
        "\n",
        "    meta_text = init_meta_data()\n",
        "    response = exec_api(user_text=user_text, prompt=prompt, meta_text=meta_text)\n",
        "    # print(response)\n",
        "    json_answer = json.loads(response)\n",
        "    sql = json_answer['response']['sql_query']\n",
        "\n",
        "    if sql:\n",
        "        result = exec_sql(sql)\n",
        "        # print(result['read_count'])\n",
        "        # print(result['tabled'])\n",
        "        # print(result['dict_array'])\n",
        "        if result['read_count'] == 1:\n",
        "            return result['tabled']\n",
        "        else:\n",
        "            return \"\"\n",
        "\n",
        "if __name__ == \"__main__\":\n",
        "    print(\"고객 정보를 확인합니다. 이름, 전화번호, 사용자 ID, 이메일 등 고객을 식별할 수 있는 정보를 입력해주세요.\")\n",
        "\n",
        "    while True:\n",
        "        user_text = input(\"\\n>\")\n",
        "        user = find_user(user_text)\n",
        "        print(user)\n",
        "\n",
        "        if user:\n",
        "            print(\"고객 정보를 확인했습니다. 감사합니다.\")\n",
        "            break\n",
        "        else:\n",
        "            print(\"고객 정보를 확인할 수 없습니다. 다시 입력해주세요.\")"
      ]
    },
    {
      "cell_type": "markdown",
      "metadata": {
        "id": "ZvlYrl1OmP91"
      },
      "source": [
        "### 2. 기본 정보 획득 작업"
      ]
    },
    {
      "cell_type": "code",
      "execution_count": null,
      "metadata": {
        "id": "jkF7MdFtmMtQ"
      },
      "outputs": [],
      "source": [
        "def get_user_info(user):\n",
        "    prompt = \"\"\"\n",
        "    {{\n",
        "        \"prompt\": \"\n",
        "        ## DB 정보\n",
        "        {meta_text}\n",
        "\n",
        "        ## 사용자 정보\n",
        "        {user_info}\n",
        "\n",
        "        ## 처리\n",
        "        DB 정보를 참조하여,\n",
        "        사용자 정보를 바탕으로 해당 사용자에 대한 모든 것을 알 수 있는 작업\n",
        "        (구매 이력, 대응 이력, 구매 완료 제품 정보 등)을 나열하고,\n",
        "        해당 작업의 설명(SQL 문장은 포함하지 않음)과 제목, SQL 문장을\n",
        "        엄격한 JSON 형식으로 다음과 같이 제공해주세요.\n",
        "        설명문은 불필요하므로 숨겨주시기 바랍니다.:\n",
        "            {{\n",
        "                \"message\":\"(답변 메시지)\",\n",
        "                \"queries\": [{{\n",
        "                    \"title\": \"(작업 제목)\",\n",
        "                    \"description\": \"(작업 설명)\",\n",
        "                    \"sql_query\": \"(SQL 문)\"\n",
        "                }}]\n",
        "            }}\n",
        "    }}\n",
        "    \"\"\"\n",
        "\n",
        "    meta_text = init_meta_data()\n",
        "    user_text = \"\"\n",
        "    response = exec_api(user_info=user, prompt=prompt, meta_text=meta_text)\n",
        "    # print(response)\n",
        "    json_answer = json.loads(response)\n",
        "    user_info = \"\\n사용자 정보\\n\" + user + \"\\n\"\n",
        "\n",
        "    for query in json_answer['queries']:\n",
        "        description = query['description']\n",
        "        user_info += \"\\n\" + query['title'] + \"\\n\"\n",
        "        # print(title)\n",
        "        sql = query['sql_query']\n",
        "\n",
        "        if sql:\n",
        "            result = exec_sql(sql)\n",
        "            user_info +=  result['tabled']+\"\\n\"\n",
        "    return user_info\n",
        "\n",
        "if __name__ == \"__main__\":\n",
        "    print(\"고객님의 정보를 데이터베이스에 질의하고 있습니다. 잠시 기다려 주십시오.\")\n",
        "    user_info = get_user_info(user)\n",
        "    print(user_info)\n",
        "    print(\"고객님의 정보를 데이터베이스에서 읽어왔습니다.\")"
      ]
    },
    {
      "cell_type": "markdown",
      "metadata": {
        "id": "wpM4UfJImbi8"
      },
      "source": [
        "### 3. 사용자 지원 작업"
      ]
    },
    {
      "cell_type": "code",
      "execution_count": null,
      "metadata": {
        "id": "-yEYKO4emeZB"
      },
      "outputs": [],
      "source": [
        "def user_support(user_info):\n",
        "    summary = \"\"\n",
        "    prompt = \"\"\"\n",
        "        {{\n",
        "            \"prompt\": \"\n",
        "            ## 대화 요약\n",
        "            {summary}\n",
        "            ## 사용자 정보\n",
        "            {user_info}\n",
        "\n",
        "            ## 처리\n",
        "            당신은 고객 응대 전문가입니다. 고객의 요청문에 대해 정확하게 답변해주세요.\n",
        "            고객 응대 시, 사용자 정보를 참고하여 친절하고 정중하게 고객 응대를 해주세요.\n",
        "            단, DB 정보에 있는 사실만 답변해주세요.\n",
        "            고객의 요청글이 \"감사합니다. 그럼 또 뵙겠습니다. 안녕히 가세요.\" 등 종료를 암시하는 문구가 입력된 경우 지원 종료로 간주합니다.\n",
        "            답변을 포함하여 다음과 같이 엄격한 JSON 형식으로 출력해주시기 바랍니다.:\n",
        "                {{\n",
        "                    \"message\": \"(답변 메시지)\",\n",
        "                    \"status\": \"(지원 상태. 지원 시작, 지원 중, 지원 종료)\",\n",
        "                    \"summary\": \"(요청문과 답변 내용 요약)\"\n",
        "                }}\n",
        "\n",
        "            요청문[{user_text}]\n",
        "            \"\n",
        "        }}\n",
        "    \"\"\"\n",
        "\n",
        "    while True:\n",
        "        user_text = input(\">\")\n",
        "        response = exec_api(user_text=user_text, user_info=user_info, prompt=prompt, summary=summary, temperature=0.5)\n",
        "        # print(response)\n",
        "        json_answer = json.loads(response)\n",
        "        message = json_answer['message']\n",
        "        print(f\"{message}\\n\")\n",
        "\n",
        "        if json_answer['status'] == '지원 종료':\n",
        "            return summary\n",
        "        summary += f\"요청: {user_text}\\n답변: {json_answer['message']}\\n\"\n",
        "\n",
        "if __name__ == \"__main__\":\n",
        "     print(\"고객님, 궁금한 사항이나 불편한 점이 있으십니까?\")\n",
        "     meta_text = init_meta_data()\n",
        "     result_summary = user_support(user_info)\n",
        "     # print(result_summary)\n",
        "     print(\"감사합니다. 그럼 이만 실례하겠습니다.\")"
      ]
    }
  ],
  "metadata": {
    "colab": {
      "provenance": []
    },
    "kernelspec": {
      "display_name": "Python 3",
      "name": "python3"
    },
    "language_info": {
      "name": "python"
    }
  },
  "nbformat": 4,
  "nbformat_minor": 0
}
