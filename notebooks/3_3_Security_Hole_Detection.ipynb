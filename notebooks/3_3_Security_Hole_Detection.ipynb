{
  "cells": [
    {
      "cell_type": "code",
      "execution_count": null,
      "metadata": {
        "id": "15UgZbOzprcA"
      },
      "outputs": [],
      "source": [
        "import sqlite3\n",
        "\n",
        "def get_user(username):\n",
        "    connection = sqlite3.connect('my_database.db')\n",
        "    cursor = connection.cursor()\n",
        "\n",
        "    cursor.execute(f\"SELECT * FROM users WHERE username='{username}'\")\n",
        "    user = cursor.fetchone()\n",
        "\n",
        "    return user"
      ]
    },
    {
      "cell_type": "code",
      "execution_count": null,
      "metadata": {
        "id": "Zz8qEYmPqDbt"
      },
      "outputs": [],
      "source": [
        "import sqlite3\n",
        "\n",
        "def get_user(username):\n",
        "    connection = sqlite3.connect('my_database.db')\n",
        "    cursor = connection.cursor()\n",
        "\n",
        "    # 문자열 형식 대신 매개 변수화된 요청 사용\n",
        "    cursor.execute(\"SELECT * FROM users WHERE username=?\", (username,))\n",
        "    user = cursor.fetchone()\n",
        "\n",
        "    return user"
      ]
    },
    {
      "cell_type": "code",
      "execution_count": null,
      "metadata": {
        "id": "rnzfjJAhqHHQ"
      },
      "outputs": [],
      "source": [
        "def calculate(expression):\n",
        "    return eval(expression)\n",
        "\n",
        "result = calculate(\"1 + 2\")\n",
        "print(result)"
      ]
    },
    {
      "cell_type": "code",
      "execution_count": null,
      "metadata": {
        "id": "kD5LeW8UqJ_4"
      },
      "outputs": [],
      "source": [
        "def calculate(expression):\n",
        "    return eval(expression, {\"__builtins__\": None})\n",
        "\n",
        "result = calculate(\"1 + 2\")\n",
        "print(result)"
      ]
    },
    {
      "cell_type": "code",
      "execution_count": null,
      "metadata": {
        "id": "Wv0BOcMFqTxw"
      },
      "outputs": [],
      "source": [
        "def read_user_file(filename):\n",
        "    with open(filename, 'r') as file:\n",
        "        print(file.read())"
      ]
    },
    {
      "cell_type": "code",
      "execution_count": null,
      "metadata": {
        "id": "oz0_vH1eqVrV"
      },
      "outputs": [],
      "source": [
        "filename = input(\"파일 이름을 입력해주세요: \")\n",
        "\n",
        "def read_user_file(filename):\n",
        "    with open(filename, 'r') as file:\n",
        "        print(file.read())"
      ]
    },
    {
      "cell_type": "code",
      "execution_count": null,
      "metadata": {
        "id": "PMH6iI0PqYcX"
      },
      "outputs": [],
      "source": [
        "import os\n",
        "\n",
        "filename = input(\"파일 이름을 입력해주세요: \")\n",
        "\n",
        "def read_user_file(filename):\n",
        "    # 파일 이름에서 위험한 부분 처리\n",
        "    filename = os.path.basename(filename)\n",
        "    with open(filename, 'r') as file:\n",
        "        print(file.read())\n",
        "\n",
        "# 함수 실행\n",
        "read_user_file(filename)"
      ]
    }
  ],
  "metadata": {
    "colab": {
      "provenance": []
    },
    "kernelspec": {
      "display_name": "Python 3",
      "name": "python3"
    },
    "language_info": {
      "name": "python"
    }
  },
  "nbformat": 4,
  "nbformat_minor": 0
}
