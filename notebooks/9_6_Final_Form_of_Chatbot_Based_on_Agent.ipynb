{
  "cells": [
    {
      "cell_type": "code",
      "execution_count": null,
      "metadata": {
        "id": "0ERXGV6MRBSa"
      },
      "outputs": [],
      "source": [
        "!pip install langchain\n",
        "!pip install openai"
      ]
    },
    {
      "cell_type": "code",
      "execution_count": null,
      "metadata": {
        "id": "5K8MXB-1RPF3"
      },
      "outputs": [],
      "source": [
        "import os\n",
        "os.environ['OPENAI_API_KEY'] = \"발급받은 API 키\""
      ]
    },
    {
      "cell_type": "code",
      "execution_count": null,
      "metadata": {
        "id": "auhDZEGERlKZ"
      },
      "outputs": [],
      "source": [
        "import os\n",
        "\n",
        "os.environ[\"GOOGLE_CSE_ID\"] = \"Google PSE ID\"\n",
        "os.environ[\"GOOGLE_API_KEY\"] = \"Google API Key\""
      ]
    },
    {
      "cell_type": "code",
      "execution_count": null,
      "metadata": {
        "id": "cyosafm4RY1Q"
      },
      "outputs": [],
      "source": [
        "from langchain.chat_models import ChatOpenAI\n",
        "from llama_index.core import VectorStoreIndex\n",
        "from langchain.agents import initialize_agent, Tool\n",
        "from langchain.chains import LLMChain\n",
        "from langchain import LLMMathChain\n",
        "from langchain.agents import AgentType\n",
        "from langchain.memory import ConversationBufferMemory\n",
        "from llama_index.core import download_loader\n",
        "from langchain.utilities import GoogleSearchAPIWrapper\n",
        "from langchain.utilities import PythonREPL\n",
        "from langchain.prompts import PromptTemplate\n",
        "from langchain import SQLDatabase\n",
        "from langchain_experimental.sql import SQLDatabaseChain\n",
        "\n",
        "llm = ChatOpenAI(temperature=0)\n",
        "\n",
        "# 데이터베이스 도구\n",
        "sql_uri = \"sqlite:///user_support.db\"\n",
        "db = SQLDatabase.from_uri(sql_uri)\n",
        "template = \"\"\"\n",
        "Given an input question, first refer table_info and create a syntactically correct {dialect} query to run, then look at the results of the query and return the answer.\n",
        "Use the following format:\n",
        "\n",
        "Question: \"Question here\"\n",
        "SQLQuery: \"SQL Query to run\"\n",
        "SQLResult: \"Result of the SQLQuery\"\n",
        "Answer: \"Final answer here. in Korean\"\n",
        "\n",
        "Only use the following tables:\n",
        "{table_info}\n",
        "\n",
        "If someone asks for 사용자, 고객, customers, they really mean the users table.\n",
        "If someone asks for 구매 이력, they really mean the order_history table.\n",
        "If someone asks for 대응 이력, they really mean the support_history table.\n",
        "\n",
        "Question: {input}\n",
        "\"\"\"\n",
        "prompt = PromptTemplate(input_variables=[\"input\", \"table_info\", \"dialect\"], template=template)\n",
        "db_chain = SQLDatabaseChain.from_llm(llm, db, prompt=prompt, verbose=True)\n",
        "\n",
        "# Google Search 도구\n",
        "search = GoogleSearchAPIWrapper()\n",
        "\n",
        "# 범용적으로 일반적인 대화를 하기 위해 단일 체인을 생성해 도구로 등록\n",
        "prompt = PromptTemplate(input_variables=[\"query\"], template=\"{query} 이 요청문을 가능한 한 한국어로 답변해주세요.\")\n",
        "chain_general = LLMChain(llm=ChatOpenAI(temperature=0.5), prompt=prompt)\n",
        "\n",
        "# 계산\n",
        "llm_math_chain = LLMMathChain.from_llm(llm=llm, verbose=True)\n",
        "\n",
        "# 파이썬 도구\n",
        "python_repl = PythonREPL()\n",
        "\n",
        "# Agent 도구\n",
        "tools = [\n",
        "    Tool(\n",
        "        name=\"SQL Database\",\n",
        "        func=db_chain.run,\n",
        "        description=\"고객에 관련된 것을 데이터베이스에 질의하고 답변할 때 편리합니다.\",\n",
        "    ),\n",
        "    Tool(\n",
        "        name = \"Google Search\",\n",
        "        func=search.run,\n",
        "        description=\"최신 정보를 조사할 때 편리합니다.\",\n",
        "    ),\n",
        "    Tool(\n",
        "        name=\"Calculator\",\n",
        "        func=llm_math_chain.run,\n",
        "        description=\"계산할 때 편리합니다.\"\n",
        "    ),\n",
        "    Tool(\n",
        "        name=\"python_repl\",\n",
        "        description=\"A Python shell. Use this to execute python commands. Input should be a valid python command. If you want to see the output of a value, you should print it out with `print(...)`.\",\n",
        "        func=python_repl.run\n",
        "    ),\n",
        "    Tool(\n",
        "        name=\"general\",\n",
        "        func=chain_general.run,\n",
        "        description=\"잡담이나 범용적인 질문에 답할 때 편리합니다.\",\n",
        "        return_direct=True,\n",
        "    ),\n",
        "]\n",
        "\n",
        "# 챗봇 Agent 초기화\n",
        "llm = ChatOpenAI(temperature=0.5)\n",
        "\n",
        "agent_kwargs = {\n",
        "    \"suffix\": \"\"\"\n",
        "    시작! 지금부터 대화는 전부 한국어로 진행됩니다.\n",
        "\n",
        "    이전 대화 이력\n",
        "    {chat_history}\n",
        "\n",
        "    새로운 입력: {input}\n",
        "    {agent_scratchpad}\n",
        "    \"\"\",\n",
        "}\n",
        "\n",
        "memory = ConversationBufferMemory(memory_key=\"chat_history\", return_messages=True)\n",
        "agent = initialize_agent(tools, llm, agent=AgentType.CHAT_CONVERSATIONAL_REACT_DESCRIPTION, agent_kwargs=agent_kwargs, verbose=True, memory=memory)"
      ]
    },
    {
      "cell_type": "markdown",
      "metadata": {
        "id": "AMdzl-rrSAGG"
      },
      "source": [
        "## 대화 예"
      ]
    },
    {
      "cell_type": "code",
      "execution_count": null,
      "metadata": {
        "id": "W2eoqr6xRsnt"
      },
      "outputs": [],
      "source": [
        "agent.run(\"윤 태진님의 정보와 사용자 ID를 알려주세요. 한국어에서는 성, 이름 순서로 이름을 부릅니다.\")"
      ]
    },
    {
      "cell_type": "code",
      "execution_count": null,
      "metadata": {
        "id": "ZkbOqtW1RugU"
      },
      "outputs": [],
      "source": [
        "agent.run(\"윤 태진님과의 사이에 발생한 문제가 있나요? 대응 이력을 확인해주세요.\")"
      ]
    },
    {
      "cell_type": "code",
      "execution_count": null,
      "metadata": {
        "id": "LDYkgiORRwvM"
      },
      "outputs": [],
      "source": [
        "agent.run(\"오늘 마포구 상암동의 날씨는? 온도는 섭씨로 알려주세요.\")"
      ]
    },
    {
      "cell_type": "code",
      "execution_count": null,
      "metadata": {
        "id": "7Q5Tg6bXRytJ"
      },
      "outputs": [],
      "source": [
        "agent.run(\"오늘 상암동 날씨가 꽤 춥네요. 그렇게 생각하지 않나요?\")"
      ]
    },
    {
      "cell_type": "code",
      "execution_count": null,
      "metadata": {
        "id": "kkZkvTVDR0nR"
      },
      "outputs": [],
      "source": [
        "agent.run(\"데이터베이스를 참조해서 구매 이력에서 제품별 전체 판매 금액을 계산해주세요. 금액 단위는 대한민국 원입니다.\")"
      ]
    },
    {
      "cell_type": "code",
      "execution_count": null,
      "metadata": {
        "id": "9E5UCQMxR3Ot"
      },
      "outputs": [],
      "source": [
        "agent.run(\"제품별 전체 판매 금액을 Python으로 matplotlib을 이용하여 그래프로 그려주세요. 매상이 있는 제품만을 대상으로 하고, 문자 표시는 문자가 깨지지 않도록 영어로 해주세요.\")"
      ]
    },
    {
      "cell_type": "code",
      "execution_count": null,
      "metadata": {
        "id": "BchYBjjNR5lF"
      },
      "outputs": [],
      "source": [
        "agent.run(\"저는 좀 더 작은 집을 직접 지어, 2년동안 살았던 적이 있습니다. 그리고 지금은 일반적인 삶을 살고 있습니다. 어떻게 생각하시나요?\")"
      ]
    }
  ],
  "metadata": {
    "colab": {
      "provenance": []
    },
    "kernelspec": {
      "display_name": "Python 3",
      "name": "python3"
    },
    "language_info": {
      "name": "python"
    }
  },
  "nbformat": 4,
  "nbformat_minor": 0
}
