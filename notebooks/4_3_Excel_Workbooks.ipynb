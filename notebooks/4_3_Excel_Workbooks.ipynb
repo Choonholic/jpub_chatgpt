{
  "nbformat": 4,
  "nbformat_minor": 0,
  "metadata": {
    "colab": {
      "provenance": []
    },
    "kernelspec": {
      "name": "python3",
      "display_name": "Python 3"
    },
    "language_info": {
      "name": "python"
    }
  },
  "cells": [
    {
      "cell_type": "code",
      "execution_count": null,
      "metadata": {
        "id": "OqGTrTUiVPrJ"
      },
      "outputs": [],
      "source": [
        "!pip install openpyxl"
      ]
    },
    {
      "cell_type": "code",
      "source": [
        "import openpyxl\n",
        "\n",
        "# 새로운 Excel 파일 작성\n",
        "wb = openpyxl.Workbook()\n",
        "\n",
        "# 시트 얻기\n",
        "sheet = wb.active\n",
        "\n",
        "# 헤더 데이터 쓰기\n",
        "sheet['A1'] = '피청구인'\n",
        "sheet['B1'] = '주식회사 제이펍'\n",
        "sheet['A2'] = '담당자'\n",
        "sheet['B2'] = '김은미'\n",
        "\n",
        "# 상세 데이터 컬럼 이름 쓰기\n",
        "sheet['A4'] = '날짜'\n",
        "sheet['B4'] = '상품 이름'\n",
        "sheet['C4'] = '수량'\n",
        "sheet['D4'] = '단가'\n",
        "sheet['E4'] = '금액'\n",
        "\n",
        "# 상세 데이터 쓰기\n",
        "sheet['A5'] = '2023-10-09'\n",
        "sheet['B5'] = '노트북 컴퓨터'\n",
        "sheet['C5'] = 2\n",
        "sheet['D5'] = 1500000\n",
        "sheet['E5'] = '=C5*D5'\n",
        "\n",
        "sheet['A6'] = '2023-10-10'\n",
        "sheet['B6'] = 'USB 메모리'\n",
        "sheet['C6'] = 3\n",
        "sheet['D6'] = 20000\n",
        "sheet['E6'] = '=C6*D6'\n",
        "\n",
        "sheet['A7'] = '2023-10-15'\n",
        "sheet['B7'] = '복사 용지 (A4)'\n",
        "sheet['C7'] = 10\n",
        "sheet['D7'] = 3000\n",
        "sheet['E7'] = '=C7*D7'\n",
        "\n",
        "# 합계 금액을 계산하기 위해 SUM 함수 사용\n",
        "sheet['D9'] = '합계 금액'\n",
        "sheet['E9'] = '=SUM(E5:E7)'\n",
        "\n",
        "# Excel 파일 저장\n",
        "wb.save('invoice.xlsx')"
      ],
      "metadata": {
        "id": "s2HiXGUJVYij"
      },
      "execution_count": null,
      "outputs": []
    },
    {
      "cell_type": "code",
      "source": [
        "import openpyxl\n",
        "\n",
        "# 입력 파일 경로\n",
        "input_path = \"base_invoice.xlsx\"\n",
        "# 출력 파일 경로\n",
        "output_path = \"invoice.xlsx\"\n",
        "\n",
        "# 피청구인\n",
        "to_company = \"주식회사 제이펍\"\n",
        "to_person = \"김은미\"\n",
        "\n",
        "# 상품 정보\n",
        "items = [\n",
        "    (\"2023/10/09\", \"노트북 컴퓨터\", 2, 1500000),\n",
        "    (\"2023/10/10\", \"USB 메모리\", 3, 20000),\n",
        "    (\"2023/10/15\", \"복사 용지 A4\", 10, 3000),\n",
        "]\n",
        "\n",
        "# Workbook 읽어 들이기\n",
        "wb = openpyxl.load_workbook(input_path)\n",
        "# 시트 선택\n",
        "ws = wb.active\n",
        "\n",
        "# 피청구인과 담당자 설정\n",
        "ws[\"B3\"] = to_company\n",
        "ws[\"C4\"] = to_person\n",
        "\n",
        "# 상품 정보 설정\n",
        "for i, (date, item, quantity, price) in enumerate(items):\n",
        "    row = i + 8  # 8번째 행부터 상품 정보 설정\n",
        "    ws.cell(row=row, column=2).value = date\n",
        "    ws.cell(row=row, column=3).value = item\n",
        "    ws.cell(row=row, column=4).value = quantity\n",
        "    ws.cell(row=row, column=5).value = price\n",
        "\n",
        "# Workbook 저장\n",
        "wb.save(output_path)"
      ],
      "metadata": {
        "id": "eCQg-khHVkgB"
      },
      "execution_count": null,
      "outputs": []
    }
  ]
}