{
  "cells": [
    {
      "cell_type": "code",
      "execution_count": null,
      "metadata": {
        "id": "xSghowC_S58O"
      },
      "outputs": [],
      "source": [
        "def create_dog(name, age, breed):\n",
        "    return {\n",
        "        'name': name,\n",
        "        'age': age,\n",
        "        'breed': breed\n",
        "    }\n",
        "\n",
        "def set_name(dog, name):\n",
        "    dog['name'] = name\n",
        "\n",
        "def set_age(dog, age):\n",
        "    dog['age'] = age\n",
        "\n",
        "def set_breed(dog, breed):\n",
        "    dog['breed'] = breed\n",
        "\n",
        "def bark(dog):\n",
        "    print(f\"{dog['name']} says 'Woof!'\")\n",
        "\n",
        "dog1 = create_dog(\"Max\", 3, \"Labrador\")\n",
        "dog2 = create_dog(\"Buddy\", 1, \"Golden Retriever\")\n",
        "\n",
        "bark(dog1)\n",
        "bark(dog2)\n",
        "\n",
        "set_name(dog1, \"Milo\")\n",
        "bark(dog1)"
      ]
    },
    {
      "cell_type": "code",
      "execution_count": null,
      "metadata": {
        "id": "5PysQOv_Te13"
      },
      "outputs": [],
      "source": [
        "class Dog:\n",
        "    def __init__(self, name, age, breed):\n",
        "        self.name = name\n",
        "        self.age = age\n",
        "        self.breed = breed\n",
        "\n",
        "    def bark(self):\n",
        "        print(f\"{self.name} says 'Woof!'\")\n",
        "\n",
        "    def set_name(self, name):\n",
        "        self.name = name\n",
        "\n",
        "    def set_age(self, age):\n",
        "        self.age = age\n",
        "\n",
        "    def set_breed(self, breed):\n",
        "        self.breed = breed"
      ]
    },
    {
      "cell_type": "code",
      "execution_count": null,
      "metadata": {
        "id": "-5jbjO21Tj-c"
      },
      "outputs": [],
      "source": [
        "dog1 = Dog(\"Max\", 3, \"Labrador\")\n",
        "dog2 = Dog(\"Buddy\", 1, \"Golden Retriever\")\n",
        "\n",
        "dog1.bark()\n",
        "dog2.bark()\n",
        "\n",
        "dog1.set_name(\"Milo\")\n",
        "dog1.bark()"
      ]
    },
    {
      "cell_type": "code",
      "execution_count": null,
      "metadata": {
        "id": "bqQjcEDaToZe"
      },
      "outputs": [],
      "source": [
        "class Item:\n",
        "    def __init__(self, name, price):\n",
        "        self.name = name\n",
        "        self.price = price\n",
        "\n",
        "class ShoppingCart:\n",
        "    def __init__(self):\n",
        "        self.items = []\n",
        "\n",
        "    def add_item(self, item):\n",
        "        self.items.append(item)\n",
        "\n",
        "    def remove_item(self, item_name):\n",
        "        for item in self.items:\n",
        "            if item.name == item_name:\n",
        "                self.items.remove(item)\n",
        "                break\n",
        "\n",
        "    def total_price(self):\n",
        "        return sum(item.price for item in self.items)"
      ]
    },
    {
      "cell_type": "markdown",
      "metadata": {
        "id": "KxXAmcIiTLUq"
      },
      "source": [
        "## 클래스 구성도로부터 코드 생성 접근하기"
      ]
    },
    {
      "cell_type": "code",
      "execution_count": null,
      "metadata": {
        "id": "hhM1dFiKTyh3"
      },
      "outputs": [],
      "source": [
        "class Dog:\n",
        "    def __init__(self, name, age, breed):\n",
        "        self.name = name\n",
        "        self.age = age\n",
        "        self.breed = breed\n",
        "\n",
        "    def bark(self):\n",
        "        print(f\"{self.name} says 'Woof!'\")\n",
        "\n",
        "    def run(self, speed):\n",
        "        print(f\"{self.name} runs at {speed} mph\")\n",
        "\n",
        "# 테스트 코드\n",
        "dog1 = Dog(\"Max\", 3, \"Labrador\")\n",
        "dog2 = Dog(\"Buddy\", 1, \"Golden Retriever\")\n",
        "\n",
        "dog1.bark() # 출력: Max says 'Woof!'\n",
        "dog2.bark() # 출력: Buddy says 'Woof!'\n",
        "\n",
        "dog1.run(5) # 출력: Max runs at 5 mph\n",
        "dog2.run(8) # 출력: Buddy runs at 8 mph"
      ]
    }
  ],
  "metadata": {
    "colab": {
      "provenance": []
    },
    "kernelspec": {
      "display_name": "Python 3",
      "name": "python3"
    },
    "language_info": {
      "name": "python"
    }
  },
  "nbformat": 4,
  "nbformat_minor": 0
}
