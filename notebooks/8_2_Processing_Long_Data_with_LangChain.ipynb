{
  "cells": [
    {
      "cell_type": "code",
      "execution_count": null,
      "metadata": {
        "id": "0y47kPoLG32n"
      },
      "outputs": [],
      "source": [
        "!pip install langchain"
      ]
    },
    {
      "cell_type": "code",
      "execution_count": null,
      "metadata": {
        "id": "ajZ57l2PHS_Z"
      },
      "outputs": [],
      "source": [
        "!pip install chromadb"
      ]
    },
    {
      "cell_type": "code",
      "execution_count": null,
      "metadata": {
        "id": "5f0p4lH3HU4t"
      },
      "outputs": [],
      "source": [
        "!pip install tiktoken"
      ]
    },
    {
      "cell_type": "code",
      "execution_count": null,
      "metadata": {
        "id": "CN9yebm5HW6M"
      },
      "outputs": [],
      "source": [
        "!pip install openai"
      ]
    },
    {
      "cell_type": "code",
      "execution_count": null,
      "metadata": {
        "id": "QxpjyM_9HXlr"
      },
      "outputs": [],
      "source": [
        "import os\n",
        "os.environ['OPENAI_API_KEY'] = \"발급받은 API 키\""
      ]
    },
    {
      "cell_type": "code",
      "execution_count": null,
      "metadata": {
        "id": "Qva4K1uKHbKD"
      },
      "outputs": [],
      "source": [
        "from langchain.llms import OpenAI\n",
        "from langchain.indexes import VectorstoreIndexCreator\n",
        "from langchain.document_loaders import TextLoader\n",
        "\n",
        "loader = TextLoader('./state_of_the_union.txt', encoding='utf8')\n",
        "\n",
        "index = VectorstoreIndexCreator().from_loaders([loader])\n",
        "\n",
        "query = \"What did the president say about Ketanji Brown Jackson\"\n",
        "index.query(query)"
      ]
    },
    {
      "cell_type": "code",
      "execution_count": null,
      "metadata": {
        "id": "k00M3tyHHdwO"
      },
      "outputs": [],
      "source": [
        "query = \"What did the president say about Ketanji Brown Jackson\"\n",
        "index.query_with_sources(query)"
      ]
    },
    {
      "cell_type": "code",
      "execution_count": null,
      "metadata": {
        "id": "KXx4Md2FHiye"
      },
      "outputs": [],
      "source": [
        "from langchain.text_splitter import CharacterTextSplitter\n",
        "from langchain.embeddings import OpenAIEmbeddings\n",
        "from langchain.vectorstores import Chroma\n",
        "from langchain.chains import RetrievalQA\n",
        "\n",
        "# 문서 형태로 데이터 적재\n",
        "documents = loader.load()\n",
        "\n",
        "# 텍스트 분할\n",
        "text_splitter = CharacterTextSplitter(chunk_size=1000, chunk_overlap=0)\n",
        "texts = text_splitter.split_documents(documents)\n",
        "\n",
        "# 매장 라이브러리 지정\n",
        "embeddings = OpenAIEmbeddings()\n",
        "\n",
        "# 매장 처리 후 색인 생성\n",
        "db = Chroma.from_documents(texts, embeddings)\n",
        "\n",
        "# 수신자 생성\n",
        "retriever = db.as_retriever()\n",
        "qa = RetrievalQA.from_chain_type(llm=OpenAI(), chain_type=\"stuff\", retriever=retriever)\n",
        "\n",
        "# 질의 실행\n",
        "query = \"What did the president say about Ketanji Brown Jackson\"\n",
        "qa.run(query)"
      ]
    },
    {
      "cell_type": "code",
      "execution_count": null,
      "metadata": {
        "id": "buqUNwoUHshF"
      },
      "outputs": [],
      "source": [
        "loader = TextLoader('./state_of_the_union.txt', encoding='utf8')\n",
        "\n",
        "index = VectorstoreIndexCreator(\n",
        "    vectorstore_cls=Chroma,\n",
        "    embedding=OpenAIEmbeddings(),\n",
        "    text_splitter=CharacterTextSplitter(chunk_size=1000, chunk_overlap=0)\n",
        ").from_loaders([loader])\n",
        "\n",
        "query = \"What did the president say about Ketanji Brown Jackson\"\n",
        "index.query(query)"
      ]
    },
    {
      "cell_type": "markdown",
      "metadata": {
        "id": "xAxnkEGoHwFZ"
      },
      "source": [
        "## 색인 저장과 적재"
      ]
    },
    {
      "cell_type": "code",
      "execution_count": null,
      "metadata": {
        "id": "fA0jod6BHyPc"
      },
      "outputs": [],
      "source": [
        "from langchain.text_splitter import CharacterTextSplitter\n",
        "from langchain.embeddings import OpenAIEmbeddings\n",
        "from langchain.vectorstores import Chroma\n",
        "from langchain.chains import RetrievalQA\n",
        "from langchain.chat_models import ChatOpenAI\n",
        "\n",
        "# 영속화 디렉터리 설정\n",
        "persist_directory = 'db'\n",
        "\n",
        "# 문서 형태로 데이터 적재\n",
        "documents = loader.load()\n",
        "\n",
        "# 텍스트 분할\n",
        "text_splitter = CharacterTextSplitter(chunk_size=1000, chunk_overlap=0)\n",
        "texts = text_splitter.split_documents(documents)\n",
        "\n",
        "# 매장 라이브러리 지정\n",
        "embeddings = OpenAIEmbeddings()\n",
        "\n",
        "# 매장 처리 후 색인 생성\n",
        "db = Chroma.from_documents(texts, embeddings,persist_directory=persist_directory)\n",
        "\n",
        "# 수신자 생성\n",
        "retriever = db.as_retriever()\n",
        "qa = RetrievalQA.from_chain_type(llm=ChatOpenAI(), chain_type=\"stuff\", retriever=retriever)\n",
        "\n",
        "# 질의 실행\n",
        "query = \"What did the president say about Ketanji Brown Jackson\"\n",
        "qa.run(query)"
      ]
    },
    {
      "cell_type": "markdown",
      "metadata": {
        "id": "8thW-7MnIEXz"
      },
      "source": [
        "## 적재기 사용하기"
      ]
    },
    {
      "cell_type": "markdown",
      "metadata": {
        "id": "nj14uKc0IGH2"
      },
      "source": [
        "### 웹 페이지에서 정보 적재하기"
      ]
    },
    {
      "cell_type": "code",
      "execution_count": null,
      "metadata": {
        "id": "jIXg7K7nILcx"
      },
      "outputs": [],
      "source": [
        "!pip install unstructured"
      ]
    },
    {
      "cell_type": "code",
      "execution_count": null,
      "metadata": {
        "id": "QkeB80yLIPBg"
      },
      "outputs": [],
      "source": [
        "from langchain.text_splitter import CharacterTextSplitter, RecursiveCharacterTextSplitter\n",
        "from langchain.chat_models import ChatOpenAI\n",
        "from langchain.embeddings import OpenAIEmbeddings\n",
        "from langchain.vectorstores import Chroma\n",
        "from langchain.chains import RetrievalQA\n",
        "from langchain.document_loaders import UnstructuredURLLoader\n",
        "\n",
        "urls = [\n",
        "    'https://ko.wikipedia.org/wiki/%ED%95%9C%EA%B5%AD%EC%9D%98_%EC%97%AD%EC%82%AC',\n",
        "    'https://ko.wikipedia.org/wiki/%EC%84%B8%EA%B3%84%EC%9D%98_%EC%97%AD%EC%82%AC'\n",
        "]\n",
        "\n",
        "loader = UnstructuredURLLoader(urls=urls)\n",
        "documents = loader.load()\n",
        "text_splitter = RecursiveCharacterTextSplitter(chunk_size=500, chunk_overlap=0)\n",
        "texts = text_splitter.split_documents(documents)\n",
        "embeddings = OpenAIEmbeddings()\n",
        "db = Chroma.from_documents(texts, embeddings)\n",
        "retriever = db.as_retriever()\n",
        "\n",
        "qa = RetrievalQA.from_chain_type(llm=ChatOpenAI(), chain_type=\"stuff\", retriever=retriever)"
      ]
    },
    {
      "cell_type": "code",
      "execution_count": null,
      "metadata": {
        "id": "ch1YWJvzIZPH"
      },
      "outputs": [],
      "source": [
        "qa.run(\"이순신은 어떤 일을 했습니까? 그리고 동시기에 세계에서는 어떤 일이 일어났는지도 설명해주세요.\")"
      ]
    },
    {
      "cell_type": "markdown",
      "metadata": {
        "id": "LStuO507IcQX"
      },
      "source": [
        "### PDF 문서에서 정보 적재하기"
      ]
    },
    {
      "cell_type": "code",
      "execution_count": null,
      "metadata": {
        "id": "fhXc5F5aIdaD"
      },
      "outputs": [],
      "source": [
        "!pip install pypdf"
      ]
    },
    {
      "cell_type": "code",
      "execution_count": null,
      "metadata": {
        "id": "yVGKh8swIfSh"
      },
      "outputs": [],
      "source": [
        "from langchain.document_loaders import PyPDFLoader\n",
        "from langchain.text_splitter import CharacterTextSplitter, RecursiveCharacterTextSplitter\n",
        "from langchain.chat_models import ChatOpenAI\n",
        "from langchain.embeddings import OpenAIEmbeddings\n",
        "from langchain.vectorstores import Chroma\n",
        "from langchain.chains import RetrievalQA\n",
        "\n",
        "loader = PyPDFLoader(\"./attention.pdf\")\n",
        "documents = loader.load()\n",
        "text_splitter = RecursiveCharacterTextSplitter(chunk_size=1000, chunk_overlap=0)\n",
        "texts = text_splitter.split_documents(documents)\n",
        "embeddings = OpenAIEmbeddings()\n",
        "db = Chroma.from_documents(texts, embeddings)\n",
        "retriever = db.as_retriever()\n",
        "\n",
        "qa = RetrievalQA.from_chain_type(llm=ChatOpenAI(), chain_type=\"stuff\", retriever=retriever"
      ]
    },
    {
      "cell_type": "code",
      "execution_count": null,
      "metadata": {
        "id": "c2bd2G_bIj0i"
      },
      "outputs": [],
      "source": [
        "qa.run(\"Please explain about Attention. Please explain it in a way that even a child can understand. Please give a response in Korean.\")"
      ]
    },
    {
      "cell_type": "code",
      "execution_count": null,
      "metadata": {
        "id": "1tagbOafInKG"
      },
      "outputs": [],
      "source": [
        "loader = PyPDFLoader(\"https://arxiv.org/pdf/1706.03762.pdf\")"
      ]
    }
  ],
  "metadata": {
    "colab": {
      "provenance": []
    },
    "kernelspec": {
      "display_name": "Python 3",
      "name": "python3"
    },
    "language_info": {
      "name": "python"
    }
  },
  "nbformat": 4,
  "nbformat_minor": 0
}
