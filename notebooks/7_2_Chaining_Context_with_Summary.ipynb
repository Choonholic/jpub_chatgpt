{
  "cells": [
    {
      "cell_type": "code",
      "execution_count": null,
      "metadata": {
        "id": "2MtgS1Smjmsz"
      },
      "outputs": [],
      "source": [
        "!pip install openai"
      ]
    },
    {
      "cell_type": "code",
      "execution_count": null,
      "metadata": {
        "id": "uOqlbeIyjnWo"
      },
      "outputs": [],
      "source": [
        "import os\n",
        "os.environ['OPENAI_API_KEY'] = \"발급받은 API 키\""
      ]
    },
    {
      "cell_type": "code",
      "execution_count": null,
      "metadata": {
        "id": "Cf3xJvh1jMmT"
      },
      "outputs": [],
      "source": [
        "from json.decoder import JSONDecodeError\n",
        "from openai import OpenAI\n",
        "import os\n",
        "import re\n",
        "import json\n",
        "import time\n",
        "\n",
        "client = OpenAI()\n",
        "DEBUG = False\n",
        "\n",
        "# 기정의된 시스템 메시지\n",
        "SYSTEM_MESSAGE = \"\"\"\n",
        "\n",
        "다음의 전제 지식과 지원 기록을 바탕으로 지원을 해주시기 바랍니다.\n",
        "모든 대화에 대한 답변과 그 요약을 다음과 같은 JSON 형식으로 출력해주세요.\n",
        "\n",
        "## 출력 (JSON 형식)\n",
        "{{\"content\" : \"(답변 내용)\", \"summary\" : \"(답변 요약 내용)\" }}\n",
        "\n",
        "## 대화의 예\n",
        "USER->기계의 상태가 나쁩니다\n",
        "AI->{{\"content\" : \"어떤 기계에서 어떤 문제가 발생하고 있습니까?\", \"summary\" : \"기계의 종류와 문제 현상을 사용자에게 확인.\"}}\n",
        "\n",
        "USER->감사합니다. (종료의 암시, 인사, 감사의 말 등도 포함)\n",
        "AI->{{\"content\" : \"천만에요. 언제든지 상담을 요청해 주세요.\",\"summary\" : \"지원 종료.\"}}\n",
        "\n",
        "## 전제 지식\n",
        "  - 당신은 농기구 고장 진단의 전문가입니다.\n",
        "\n",
        "## 지원 기록\n",
        "  {support_context}\n",
        "\n",
        "\"\"\"\n",
        "\n",
        "def create_chat_response(user_text, support_context):\n",
        "    for i in range(3):\n",
        "        response = client.chat.completions.create(\n",
        "            model=\"gpt-3.5-turbo\",\n",
        "            messages=[\n",
        "                {\n",
        "                    \"role\": \"system\",\n",
        "                    \"content\": SYSTEM_MESSAGE.format(support_context=support_context)\n",
        "                },\n",
        "                {\n",
        "                    \"role\": \"user\",\n",
        "                    \"content\": f\"JSON 형식으로 출력해주세요: [{user_text}]+\"\n",
        "                }\n",
        "            ],\n",
        "        )\n",
        "\n",
        "        try:\n",
        "            # 응답으로부터 JSON 형식의 데이터만 추출.\n",
        "            json_str = re.search(r'\\{.*\\}', response.choices[0].message.content).group(0)\n",
        "            return json.loads(json_str)\n",
        "        except JSONDecodeError:\n",
        "            # 잘못된 JSON 데이터가 반환된 경우 재시도하고, 이 때 AI에게 주의를 던짐.\n",
        "            if DEBUG:\n",
        "                print(\"JSON Parse Error: \", response.choices[0].message.content)\n",
        "            print(\"...AI의 출력에 오류가 발생했습니다. 재시도합니다......\")\n",
        "            user_text += '...응답 시 JSON 형식을 지켜 주세요.'\n",
        "            time.sleep(1)\n",
        "            continue\n",
        "        except AttributeError:\n",
        "            # JSON으로 변환할 수 없는 것들. (목록 등) 이 경우 값을 그대로 설정.\n",
        "            if DEBUG:\n",
        "                print(\"Attribute Error:\", response.choices[0].message.content)\n",
        "            return {\n",
        "                \"content\": response.choices[0].message.content,\n",
        "                \"summary\": response.choices[0].message.content,\n",
        "                \"error\": \"attribute error\"\n",
        "            }\n",
        "    else:\n",
        "        return []\n",
        "\n",
        "support_context = \"\"\n",
        "print(\"농기구에 대해 어려움이 있다면 답변해드립니다.\\n무엇이든 물어보세요.\\n\")\n",
        "\n",
        "while True:\n",
        "    user_text = input(\"\\n>\")\n",
        "\n",
        "    if user_text == \"quit\":\n",
        "        break\n",
        "\n",
        "    response = create_chat_response(user_text, support_context)\n",
        "\n",
        "    if response:\n",
        "        answer  = response['content']\n",
        "        summary = response['summary']\n",
        "    else:\n",
        "        print(\"죄송합니다. 질문 방법을 바꿔주세요.\")\n",
        "        continue\n",
        "\n",
        "    support_context += f\"- user: {user_text}\\n\"\n",
        "    support_context += f\"- AI: {summary}\\n\\n\"\n",
        "    print(\"\\n답변: \", answer)\n",
        "\n",
        "    if DEBUG:\n",
        "        print(\"요약: \", summary)\n",
        "        print(\"response: \", response)"
      ]
    }
  ],
  "metadata": {
    "colab": {
      "provenance": []
    },
    "kernelspec": {
      "display_name": "Python 3",
      "name": "python3"
    },
    "language_info": {
      "name": "python"
    }
  },
  "nbformat": 4,
  "nbformat_minor": 0
}
