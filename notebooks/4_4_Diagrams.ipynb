{
  "cells": [
    {
      "cell_type": "code",
      "execution_count": null,
      "metadata": {
        "id": "1CxfyT2jV4mI"
      },
      "outputs": [],
      "source": [
        "!pip install diagrams"
      ]
    },
    {
      "cell_type": "code",
      "execution_count": null,
      "metadata": {
        "id": "e7QoS_UAWD7E"
      },
      "outputs": [],
      "source": [
        "from diagrams import Diagram, Cluster\n",
        "from diagrams.aws.compute import EC2\n",
        "from diagrams.aws.network import ELB, Route53\n",
        "from diagrams.aws.database import RDS\n",
        "from diagrams.aws.management import Cloudwatch\n",
        "\n",
        "with Diagram(\"Web Service Architecture\", show=False):\n",
        "    dns = Route53(\"DNS\")\n",
        "    lb = ELB(\"Load Balancer\")\n",
        "    with Cluster(\"Web Servers\"):\n",
        "        web = [EC2(\"Web1\"),\n",
        "                 EC2(\"Web2\"),\n",
        "                 EC2(\"Web3\")]\n",
        "    with Cluster(\"Database Servers\"):\n",
        "        db_master = RDS(\"master\")\n",
        "        db_replica = RDS(\"replica\")\n",
        "    monitor = Cloudwatch(\"CloudWatch\")\n",
        "\n",
        "    dns >> lb >> web >> db_master\n",
        "    web >> db_replica\n",
        "    monitor >> db_master"
      ]
    },
    {
      "cell_type": "code",
      "execution_count": null,
      "metadata": {
        "id": "4Ti-x-2QWK1T"
      },
      "outputs": [],
      "source": [
        "from diagrams import Diagram, Cluster\n",
        "from diagrams.k8s.compute import Pod, StatefulSet\n",
        "from diagrams.k8s.network import Service, Ingress, NetworkPolicy\n",
        "from diagrams.k8s.storage import PV\n",
        "from diagrams.k8s.rbac import Role, ClusterRole\n",
        "from diagrams.k8s.group import Namespace\n",
        "from diagrams.onprem.ci import Jenkins\n",
        "from diagrams.onprem.vcs import Git\n",
        "\n",
        "with Diagram(\"Kubernetes Architecture\", show=False):\n",
        "    with Cluster(\"Namespace\"):\n",
        "        namespace = Namespace(\"my-namespace\")\n",
        "        with Cluster(\"StatefulSets\"):\n",
        "            statefulset = StatefulSet(\"my-statefulset\")\n",
        "            with Cluster(\"Pods\"):\n",
        "                pod1 = Pod(\"pod-1\")\n",
        "                pod2 = Pod(\"pod-2\")\n",
        "            statefulset - pod1\n",
        "            statefulset - pod2\n",
        "        with Cluster(\"Services\"):\n",
        "            service1 = Service(\"service-1\")\n",
        "            service2 = Service(\"service-2\")\n",
        "            ingress = Ingress(\"ingress\")\n",
        "            networkpolicy = NetworkPolicy(\"network-policy\")\n",
        "            service1 >> ingress >> service2 >> networkpolicy >> statefulset\n",
        "        with Cluster(\"Storage\"):\n",
        "            pv1 = PV(\"pv-1\")\n",
        "            pv2 = PV(\"pv-2\")\n",
        "            statefulset - pv1\n",
        "            statefulset - pv2\n",
        "        with Cluster(\"RBAC\"):\n",
        "            role1 = Role(\"role-1\")\n",
        "            role2 = Role(\"role-2\")\n",
        "            clusterrole = ClusterRole(\"cluster-role\")\n",
        "            statefulset - role1\n",
        "            statefulset - role2\n",
        "            statefulset - clusterrole\n",
        "    with Cluster(\"Tools\"):\n",
        "        jenkins = Jenkins(\"Jenkins\")\n",
        "        git = Git(\"Git\")\n",
        "        jenkins >> git"
      ]
    }
  ],
  "metadata": {
    "colab": {
      "provenance": []
    },
    "kernelspec": {
      "display_name": "Python 3",
      "name": "python3"
    },
    "language_info": {
      "name": "python"
    }
  },
  "nbformat": 4,
  "nbformat_minor": 0
}
