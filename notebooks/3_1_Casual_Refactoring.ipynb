{
  "cells": [
    {
      "cell_type": "markdown",
      "metadata": {
        "id": "ckUe02S3mlpI"
      },
      "source": [
        "## 함수 분할"
      ]
    },
    {
      "cell_type": "code",
      "execution_count": null,
      "metadata": {
        "id": "uKHIxOZFmTax"
      },
      "outputs": [],
      "source": [
        "def process_data(data):\n",
        "    # 1단계: 데이터 처리\n",
        "    cleaned_data = []\n",
        "\n",
        "    for item in data:\n",
        "        cleaned_item = item.strip()\n",
        "        cleaned_data.append(cleaned_item)\n",
        "\n",
        "    # 2단계: 데이터 필터링\n",
        "    filtered_data = []\n",
        "\n",
        "    for item in cleaned_data:\n",
        "        if len(item) > 5:\n",
        "            filtered_data.append(item)\n",
        "\n",
        "    # 3단계: 데이터 변환\n",
        "    transformed_data = []\n",
        "\n",
        "    for item in filtered_data:\n",
        "        transformed_item = item.upper()\n",
        "        transformed_data.append(transformed_item)\n",
        "\n",
        "    return transformed_data\n",
        "\n",
        "data = [\"apple\", \" banana\", \"orange\", \"grape\", \"kiwi \"]\n",
        "result = process_data(data)\n",
        "print(result)"
      ]
    },
    {
      "cell_type": "code",
      "execution_count": null,
      "metadata": {
        "id": "JmJVzs5gm0Ua"
      },
      "outputs": [],
      "source": [
        "def clean_data(data):\n",
        "    return [item.strip() for item in data]\n",
        "\n",
        "def filter_data(data):\n",
        "    return [item for item in data if len(item) > 5]\n",
        "\n",
        "def transform_data(data):\n",
        "    return [item.upper() for item in data]\n",
        "\n",
        "def process_data(data):\n",
        "    cleaned_data = clean_data(data)\n",
        "    filtered_data = filter_data(cleaned_data)\n",
        "    transformed_data = transform_data(filtered_data)\n",
        "    return transformed_data\n",
        "\n",
        "data = [\"apple\", \" banana\", \"orange\", \"grape\", \"kiwi \"]\n",
        "result = process_data(data)\n",
        "print(result)"
      ]
    },
    {
      "cell_type": "markdown",
      "metadata": {
        "id": "zeszs4hHm8Xr"
      },
      "source": [
        "## 변수 이름과 함수 이름의 개선"
      ]
    },
    {
      "cell_type": "code",
      "execution_count": null,
      "metadata": {
        "id": "bmf7O4BlnBbi"
      },
      "outputs": [],
      "source": [
        "def calc(a, b):\n",
        "    s = a + b\n",
        "    d = a - b\n",
        "    m = a * b\n",
        "    q = a / b\n",
        "    return s, d, m, q\n",
        "\n",
        "x = 10\n",
        "y = 5\n",
        "result = calc(x, y)\n",
        "print(result)"
      ]
    },
    {
      "cell_type": "code",
      "execution_count": null,
      "metadata": {
        "id": "NKkqnuJOnGad"
      },
      "outputs": [],
      "source": [
        "def calculate_operations(num1, num2):\n",
        "    sum_result = num1 + num2\n",
        "    difference_result = num1 - num2\n",
        "    multiplication_result = num1 * num2\n",
        "    division_result = num1 / num2\n",
        "    return sum_result, difference_result, multiplication_result, division_result\n",
        "\n",
        "first_number = 10\n",
        "second_number = 5\n",
        "result = calculate_operations(first_number, second_number)\n",
        "print(result)"
      ]
    },
    {
      "cell_type": "markdown",
      "metadata": {
        "id": "rEYmjVnZnPyg"
      },
      "source": [
        "## 중복 제거"
      ]
    },
    {
      "cell_type": "code",
      "execution_count": null,
      "metadata": {
        "id": "489A0oVYnSHZ"
      },
      "outputs": [],
      "source": [
        "def print_invoice(invoice_data):\n",
        "    total = 0\n",
        "\n",
        "    for item in invoice_data:\n",
        "        total += item['price'] * item['quantity']\n",
        "        print(f\"{item['name']} x {item['quantity']} = {item['name'] * item['quantity']}\")\n",
        "\n",
        "    tax = total * 0.1\n",
        "    grand_total = total + tax\n",
        "    print(f\"Total: {total}\")\n",
        "    print(f\"Tax (10%): {tax}\")\n",
        "    print(f\"Grand Total: {grand_total}\")\n",
        "\n",
        "def print_receipt(receipt_data):\n",
        "    total = 0\n",
        "\n",
        "    for item in receipt_data:\n",
        "        total += item['price'] * item['quantity']\n",
        "        print(f\"{item['name']} x {item['quantity']} = {item['name'] * item['quantity']}\")\n",
        "\n",
        "    tax = total * 0.1\n",
        "    grand_total = total + tax\n",
        "    print(f\"Total: {total}\")\n",
        "    print(f\"Tax (10%): {tax}\")\n",
        "    print(f\"Grand Total: {grand_total}\")"
      ]
    },
    {
      "cell_type": "code",
      "execution_count": null,
      "metadata": {
        "id": "PSN_nT1mnWN0"
      },
      "outputs": [],
      "source": [
        "def print_order(order_data):\n",
        "    total = 0\n",
        "\n",
        "    for item in order_data:\n",
        "        total += item['price'] * item['quantity']\n",
        "        print(f\"{item['name']} x {item['quantity']} = {item['name'] * item['quantity']}\")\n",
        "\n",
        "    tax = total * 0.1\n",
        "    grand_total = total + tax\n",
        "    print(f\"Total: {total}\")\n",
        "    print(f\"Tax (10%): {tax}\")\n",
        "    print(f\"Grand Total: {grand_total}\")\n",
        "\n",
        "def print_invoice(invoice_data):\n",
        "    print_order(invoice_data)\n",
        "\n",
        "def print_receipt(receipt_data):\n",
        "    print_order(receipt_data)"
      ]
    }
  ],
  "metadata": {
    "colab": {
      "provenance": []
    },
    "kernelspec": {
      "display_name": "Python 3",
      "name": "python3"
    },
    "language_info": {
      "name": "python"
    }
  },
  "nbformat": 4,
  "nbformat_minor": 0
}
