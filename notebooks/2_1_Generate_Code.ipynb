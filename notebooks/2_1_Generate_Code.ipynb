{
  "cells": [
    {
      "cell_type": "markdown",
      "metadata": {
        "id": "1kBFew_43iOw"
      },
      "source": [
        "## 이해는 하고 있지만 잘 하지 못하는 것을 맡기기"
      ]
    },
    {
      "cell_type": "code",
      "execution_count": null,
      "metadata": {
        "id": "Y0bqkjqQ3xP8"
      },
      "outputs": [],
      "source": [
        "import re\n",
        "\n",
        "def validate_password(password):\n",
        "    # 정규표현식 패턴\n",
        "    pattern = r'^(?=.*[a-z])(?=.*[A-Z])(?=.*\\d)(?=.*[@$!%*?&])[A-Za-z\\d@$!%*?&]+$'\n",
        "\n",
        "    # 정규표현식 패턴과 비밀번호의 일치를 확인\n",
        "    if re.match(pattern, password):\n",
        "        print(\"비밀번호가 올바릅니다.\")\n",
        "    else:\n",
        "        print(\"비밀번호가 올바르지 않습니다.\")\n",
        "\n",
        "# 비밀번호 입력\n",
        "password = input(\"비밀번호를 입력해주세요:\")\n",
        "validate_password(password)"
      ]
    },
    {
      "cell_type": "code",
      "execution_count": null,
      "metadata": {
        "id": "IOdbKP9Q4bA8"
      },
      "outputs": [],
      "source": [
        "import codecs\n",
        "\n",
        "def read_text_file(file_path):\n",
        "    try:\n",
        "        with codecs.open(file_path, 'r', encoding='cp932', errors='ignore') as file:\n",
        "            content = file.read()\n",
        "            print(content)\n",
        "    except FileNotFoundError:\n",
        "        print('파일을 찾을 수 없습니다')\n",
        "    except PermissionError:\n",
        "        print('파일에 접근할 권한이 없습니다')\n",
        "    except UnicodeDecodeError:\n",
        "        print('파일의 인코딩이 올바르지 않습니다')\n",
        "\n",
        "# 텍스트 파일의 경로\n",
        "file_path = 'path/to/your/file.txt'\n",
        "\n",
        "# 텍스트 파일 읽기\n",
        "read_text_file(file_path)"
      ]
    },
    {
      "cell_type": "markdown",
      "metadata": {
        "id": "klpmgFGb4m-u"
      },
      "source": [
        "## 작게 쪼개서 요청하기"
      ]
    },
    {
      "cell_type": "code",
      "execution_count": null,
      "metadata": {
        "id": "3rmS40tw4qDi"
      },
      "outputs": [],
      "source": [
        "import requests\n",
        "\n",
        "def get_github_user_info(username):\n",
        "    url = f\"https://api.github.com/users/{username}\"\n",
        "    response = requests.get(url)\n",
        "\n",
        "    if response.status_code == 200:\n",
        "       return response.json()\n",
        "    else:\n",
        "       return None"
      ]
    },
    {
      "cell_type": "code",
      "execution_count": null,
      "metadata": {
        "id": "jrp32m-W48_F"
      },
      "outputs": [],
      "source": [
        "username = \"Choonholic\"\n",
        "\n",
        "user_info = get_github_user_info(username)\n",
        "\n",
        "if user_info is not None:\n",
        "    print(user_info)\n",
        "else:\n",
        "    print(f\"User {username} not found.\")"
      ]
    },
    {
      "cell_type": "code",
      "execution_count": null,
      "metadata": {
        "id": "DHQIjDLURG_7"
      },
      "outputs": [],
      "source": [
        "import requests\n",
        "\n",
        "# 정보를 얻을 GitHub 사용자 이름을 문자열로 설정합니다.\n",
        "username = \"Choonholic\"\n",
        "\n",
        "# GitHub API 엔드포인트를 지정합니다. {username}은 위에서 설정한 사용자 이름으로 대체됩니다.\n",
        "url = f\"https://api.github.com/users/{username}\"\n",
        "\n",
        "# 설정한 URL에 GET 요청을 보내, 결과를 response 변수에 저장합니다.\n",
        "response = requests.get(url)\n",
        "\n",
        "# 다음 코드에서, 요청이 성공했는지 여부를 판단합니다.\n",
        "# HTTP 상태 코드가 200인 경우에는 성공을 의미합니다.\n",
        "if response.status_code == 200:\n",
        "    # 요청이 성공한 경우, 결과를 JSON 형태로 해석합니다.\n",
        "    user_info = response.json()\n",
        "\n",
        "    # 사용자 정보를 출력합니다.\n",
        "    print(user_info)\n",
        "else:\n",
        "    # 요청이 실패한 경우, 오류 메시지를 출력합니다.\n",
        "    print(f\"User {username} not found.\")"
      ]
    },
    {
      "cell_type": "code",
      "execution_count": null,
      "metadata": {
        "id": "e4btXjsEROI-"
      },
      "outputs": [],
      "source": [
        "import requests\n",
        "\n",
        "def get_github_account_info(username):\n",
        "    url = f\"https://api.github.com/users/{username}\"\n",
        "    response = requests.get(url)\n",
        "\n",
        "    if response.status_code == 200:\n",
        "        return response.json()\n",
        "    elif response.status_code == 404:\n",
        "        raise Exception(\"지정한 GitHub 계정이 존재하지 않습니다.\")\n",
        "    else:\n",
        "        raise Exception(\"GitHub API에 대한 요청이 실패하였습니다.\")\n",
        "\n",
        "# 테스트 코드\n",
        "try:\n",
        "    # 정상 상태 테스트: 존재하는 계정 이름을 지정\n",
        "    username = \"Choonholic\"\n",
        "    account_info = get_github_account_info(username)\n",
        "    print(f\"{username}의 정보:\")\n",
        "    print(f\"이름: {account_info['name']}\")\n",
        "    print(f\"팔로워 수: {account_info['followers']}\")\n",
        "    print(f\"저장소 수: {account_info['public_repos']}\")\n",
        "    print(f\"블로그: {account_info['blog']}\")\n",
        "    print(f\"회사: {account_info['company']}\")\n",
        "    print(f\"위치: {account_info['location']}\")\n",
        "except Exception as e:\n",
        "    print(f\"오류: {str(e)}\")"
      ]
    },
    {
      "cell_type": "code",
      "execution_count": null,
      "metadata": {
        "id": "4E6JvUlIRTWe"
      },
      "outputs": [],
      "source": [
        "import unittest\n",
        "import requests\n",
        "\n",
        "class GitHubAccountInfoTest(unittest.TestCase):\n",
        "    def test_get_github_account_info_valid_username(self):\n",
        "        # 정상 상태 테스트: 존재하는 계정 이름을 지정\n",
        "        username = \"Choonholic\"\n",
        "        account_info = get_github_account_info(username)\n",
        "        self.assertIsNotNone(account_info)\n",
        "        self.assertEqual(account_info['name'], \"Your Name\")\n",
        "        self.assertIsInstance(account_info['followers'], int)\n",
        "        self.assertIsInstance(account_info['public_repos'], int)\n",
        "        self.assertIsInstance(account_info['blog'], str)\n",
        "        self.assertIsInstance(account_info['company'], str)\n",
        "        self.assertIsInstance(account_info['location'], str)\n",
        "\n",
        "    def test_get_github_account_info_invalid_username(self):\n",
        "        # 비정상 상태 테스트: 존재하지 않는 계정 이름을 지정\n",
        "        username = \"nonexistent_user\"\n",
        "        with self.assertRaises(Exception):\n",
        "            get_github_account_info(username)"
      ]
    },
    {
      "cell_type": "code",
      "execution_count": null,
      "metadata": {
        "id": "ipbr1eXaRiYE"
      },
      "outputs": [],
      "source": [
        "unittest.main(argv=['first-arg-is-ignored'], exit=False, verbosity=2)"
      ]
    }
  ],
  "metadata": {
    "colab": {
      "provenance": []
    },
    "kernelspec": {
      "display_name": "Python 3",
      "name": "python3"
    },
    "language_info": {
      "name": "python"
    }
  },
  "nbformat": 4,
  "nbformat_minor": 0
}
