{
  "cells": [
    {
      "cell_type": "markdown",
      "metadata": {
        "id": "BXmRfgPoqvhZ"
      },
      "source": [
        "## 예외 처리 개선"
      ]
    },
    {
      "cell_type": "code",
      "execution_count": null,
      "metadata": {
        "id": "P76lfeLsqgDa"
      },
      "outputs": [],
      "source": [
        "def divide_numbers(x, y):\n",
        "    return x / y"
      ]
    },
    {
      "cell_type": "code",
      "execution_count": null,
      "metadata": {
        "id": "-9XMo1Vcq36A"
      },
      "outputs": [],
      "source": [
        "def divide_numbers(x, y):\n",
        "    try:\n",
        "        return x / y\n",
        "    except ZeroDivisionError:\n",
        "        print(\"Error: Cannot divide by zero.\")\n",
        "        return None\n",
        "    except TypeError:\n",
        "        print(\"Error: x and y must be numbers.\")\n",
        "        return None"
      ]
    },
    {
      "cell_type": "code",
      "execution_count": null,
      "metadata": {
        "id": "etsDN-PKq6lg"
      },
      "outputs": [],
      "source": [
        "def read_file(file_path):\n",
        "    file = open(file_path, 'r')\n",
        "    content = file.read()\n",
        "    file.close()\n",
        "    return content"
      ]
    },
    {
      "cell_type": "code",
      "execution_count": null,
      "metadata": {
        "id": "lHOU1tRiq9e2"
      },
      "outputs": [],
      "source": [
        "def read_file(file_path):\n",
        "    try:\n",
        "        with open(file_path, 'r') as file:\n",
        "            content = file.read()\n",
        "        return content\n",
        "    except FileNotFoundError:\n",
        "        print(f\"Error: File not found at {file_path}.\")\n",
        "        return None\n",
        "    except PermissionError:\n",
        "        print(f\"Error: Permission denied when reading file at {file_path}.\")\n",
        "        return None"
      ]
    },
    {
      "cell_type": "markdown",
      "metadata": {
        "id": "Iw7cehY5rAzG"
      },
      "source": [
        "## 논리 완전성 확인과 개선"
      ]
    },
    {
      "cell_type": "code",
      "execution_count": null,
      "metadata": {
        "id": "qNkRDlxSrDGH"
      },
      "outputs": [],
      "source": [
        "def get_shopping_fee(country):\n",
        "    if country == \"USA\":\n",
        "        return 5\n",
        "    elif country == \"Canada\":\n",
        "        return 10\n",
        "    elif country == \"Australia\":\n",
        "        return 15"
      ]
    },
    {
      "cell_type": "code",
      "execution_count": null,
      "metadata": {
        "id": "FRX0q5lzrH66"
      },
      "outputs": [],
      "source": [
        "def get_shopping_fee(country):\n",
        "    if country == \"USA\":\n",
        "        return 5\n",
        "    elif country == \"Canada\":\n",
        "        return 10\n",
        "    elif country == \"Australia\":\n",
        "        return 15\n",
        "    else:\n",
        "        return \"Shopping fee is not defined for the given country\""
      ]
    }
  ],
  "metadata": {
    "colab": {
      "provenance": []
    },
    "kernelspec": {
      "display_name": "Python 3",
      "name": "python3"
    },
    "language_info": {
      "name": "python"
    }
  },
  "nbformat": 4,
  "nbformat_minor": 0
}
