{
  "cells": [
    {
      "cell_type": "markdown",
      "metadata": {
        "id": "9y-tBsGnVsBJ"
      },
      "source": [
        "## 디자인 패턴 찾기"
      ]
    },
    {
      "cell_type": "code",
      "execution_count": null,
      "metadata": {
        "id": "64HfKT6RVY81"
      },
      "outputs": [],
      "source": [
        "class TemperatureSensor:\n",
        "    def __init__(self):\n",
        "        self._observers = []\n",
        "        self._temperature = 0\n",
        "\n",
        "    def attach(self, observer):\n",
        "        self._observers.append(observer)\n",
        "\n",
        "    def detach(self, observer):\n",
        "        self._observers.remove(observer)\n",
        "\n",
        "    def set_temperature(self, temperature):\n",
        "        self._temperature = temperature\n",
        "        self.notify()\n",
        "\n",
        "    def notify(self):\n",
        "        for observer in self._observers:\n",
        "            observer.update(self._temperature)\n",
        "\n",
        "class Observer:\n",
        "    def update(self, temperature):\n",
        "        pass\n",
        "\n",
        "class Heater(Observer):\n",
        "    def update(self, temperature):\n",
        "        if temperature < 0:\n",
        "            print(\"Heater turned on\")\n",
        "\n",
        "class Cooler(Observer):\n",
        "    def update(self, temperature):\n",
        "        if temperature > 30:\n",
        "            print(\"Cooler turned on\")\n",
        "\n",
        "class Display(Observer):\n",
        "    def update(self, temperature):\n",
        "        print(\"Current temperature is: \", temperature)\n",
        "\n",
        "sensor = TemperatureSensor()\n",
        "\n",
        "sensor.attach(Heater())\n",
        "sensor.attach(Cooler())\n",
        "sensor.attach(Display())\n",
        "\n",
        "sensor.set_temperature(20)\n",
        "sensor.set_temperature(-5)\n",
        "sensor.set_temperature(40)"
      ]
    }
  ],
  "metadata": {
    "colab": {
      "provenance": []
    },
    "kernelspec": {
      "display_name": "Python 3",
      "name": "python3"
    },
    "language_info": {
      "name": "python"
    }
  },
  "nbformat": 4,
  "nbformat_minor": 0
}
