{
  "cells": [
    {
      "cell_type": "markdown",
      "metadata": {
        "id": "GUWdhBGeSMfk"
      },
      "source": [
        "## 오류 대책의 기본"
      ]
    },
    {
      "cell_type": "code",
      "execution_count": null,
      "metadata": {
        "id": "5UX9vd-YR0Uo"
      },
      "outputs": [],
      "source": [
        "def calculate_sum(numbers):\n",
        "    total = 0\n",
        "    for i in range(len(numbers) + 1): # 일부러 범위를 넘어서는 첨자에 접근합니다.\n",
        "        total += numbers[i]\n",
        "    return total\n",
        "\n",
        "numbers = [1, 2, 3, 4, 5]\n",
        "result = calculate_sum(numbers)\n",
        "print(\"Result: \", result)"
      ]
    },
    {
      "cell_type": "code",
      "execution_count": null,
      "metadata": {
        "id": "hiA5H20BSdl3"
      },
      "outputs": [],
      "source": [
        "def calculate_sum(numbers):\n",
        "    total = 0\n",
        "    for num in numbers:\n",
        "        total += num\n",
        "    return total\n",
        "\n",
        "numbers = [1, 2, 3, 4, 5]\n",
        "result = calculate_sum(numbers)\n",
        "print(\"Result: \", result)"
      ]
    }
  ],
  "metadata": {
    "colab": {
      "provenance": []
    },
    "kernelspec": {
      "display_name": "Python 3",
      "name": "python3"
    },
    "language_info": {
      "name": "python"
    }
  },
  "nbformat": 4,
  "nbformat_minor": 0
}
